{
 "cells": [
  {
   "cell_type": "code",
   "outputs": [],
   "source": [
    "import requests\n",
    "from bs4 import BeautifulSoup\n",
    "import functools\n",
    "from function_pipes import pipe\n",
    "import numpy as np\n",
    "import networkx as nx\n",
    "import copy\n",
    "import matplotlib\n",
    "from pprint import pprint\n",
    "import pandas as pd\n",
    "import collections"
   ],
   "metadata": {
    "collapsed": false,
    "ExecuteTime": {
     "end_time": "2024-02-13T22:56:42.812957463Z",
     "start_time": "2024-02-13T22:56:42.808320773Z"
    }
   },
   "execution_count": 37
  },
  {
   "cell_type": "markdown",
   "metadata": {},
   "source": []
  },
  {
   "cell_type": "markdown",
   "metadata": {},
   "source": [
    "Grabbing Webpage"
   ]
  },
  {
   "cell_type": "code",
   "execution_count": 38,
   "metadata": {
    "ExecuteTime": {
     "end_time": "2024-02-13T22:56:45.267775741Z",
     "start_time": "2024-02-13T22:56:42.813062703Z"
    }
   },
   "outputs": [],
   "source": [
    "url = \"https://masteringruneterra.com/mu-table/\"\n",
    "page = requests.get(url)\n",
    "\n",
    "soup = BeautifulSoup(page.content, 'html.parser')"
   ]
  },
  {
   "cell_type": "markdown",
   "metadata": {},
   "source": [
    "Doing finding and stuff"
   ]
  },
  {
   "cell_type": "code",
   "execution_count": 39,
   "metadata": {
    "ExecuteTime": {
     "end_time": "2024-02-13T22:56:45.308710260Z",
     "start_time": "2024-02-13T22:56:45.307644711Z"
    }
   },
   "outputs": [
    {
     "name": "stdout",
     "output_type": "stream",
     "text": [
      "15\n",
      "['Annie Jhin (NX/RU)', 'Gwen Zed (IO/SI)', 'Elder Dragon Mordekaiser Viego (RU/SI)', \"Pyke Rek'Sai (BW/SH)\", 'Elder Dragon Galio Morgana (DE/RU)', 'Caitlyn Teemo (FR/PZ)', 'Ashe LeBlanc (FR/NX)', 'Master Yi Nami (BW/IO)', 'Elder Dragon Volibear (FR/RU)', 'Aurelion Sol Elder Dragon (MT/RU)', 'Karma Sett (IO/PZ)', 'Elder Dragon Morgana Shyvana (DE/RU)', 'Karma Sett (FR/IO)', 'Janna Nilah (BW/PZ)', 'Maokai Nautilus (BW/SI)']\n"
     ]
    }
   ],
   "source": [
    "headers = soup.select(\"div.grid-item:not(.versus-cell)\")\n",
    "headers = map(lambda x: x.text.strip(), headers)\n",
    "decks = list(headers)[1:16]\n",
    "print(len(decks))\n",
    "print(decks)"
   ]
  },
  {
   "cell_type": "code",
   "outputs": [],
   "source": [
    "def handleWinrate(winRate: str) -> str:\n",
    "    winRate = winRate[:-1]  #dropping %\n",
    "    winRate = float(winRate)\n",
    "    winRate = winRate / 100\n",
    "    winRate = round(winRate, 4)\n",
    "    return winRate\n"
   ],
   "metadata": {
    "collapsed": false,
    "ExecuteTime": {
     "end_time": "2024-02-13T23:06:07.647783607Z",
     "start_time": "2024-02-13T23:06:07.604529911Z"
    }
   },
   "execution_count": 57
  },
  {
   "cell_type": "code",
   "execution_count": 40,
   "metadata": {
    "ExecuteTime": {
     "end_time": "2024-02-13T22:56:45.309342519Z",
     "start_time": "2024-02-13T22:56:45.307934924Z"
    }
   },
   "outputs": [
    {
     "data": {
      "text/plain": "[{'winRate': 0.616, 'gamesPlayed': 526},\n {'winRate': 0.6267, 'gamesPlayed': 442},\n {'winRate': 0.556, 'gamesPlayed': 464},\n {'winRate': 0.5016, 'gamesPlayed': 315},\n {'winRate': 0.7421, 'gamesPlayed': 252},\n {'winRate': 0.6157, 'gamesPlayed': 281},\n {'winRate': 0.6199, 'gamesPlayed': 221},\n {'winRate': 0.7647, 'gamesPlayed': 238},\n {'winRate': 0.6434, 'gamesPlayed': 244},\n {'winRate': 0.4661, 'gamesPlayed': 221}]"
     },
     "execution_count": 40,
     "metadata": {},
     "output_type": "execute_result"
    }
   ],
   "source": [
    "\n",
    "cells = soup.select(\".versus-cell > div\")\n",
    "rawText = map(lambda x: x.text.strip(), cells)\n",
    "\n",
    "\n",
    "def getWinRateAndGames(text):\n",
    "    winRate, games = text.split(\"\\n\");\n",
    "    #handing winrate\n",
    "    winRate = handleWinrate(winRate)\n",
    "\n",
    "    #handling games\n",
    "    games = games.split(\" \")[1]\n",
    "    games = int(games)\n",
    "    return {\"winRate\": winRate, \"gamesPlayed\": games}\n",
    "\n",
    "\n",
    "matchUps = list(map(getWinRateAndGames, rawText))\n",
    "matchUps[0:10]\n",
    "\n"
   ]
  },
  {
   "cell_type": "markdown",
   "metadata": {},
   "source": [
    "Converting to a table"
   ]
  },
  {
   "cell_type": "code",
   "execution_count": 79,
   "metadata": {
    "ExecuteTime": {
     "end_time": "2024-02-13T23:29:47.116622781Z",
     "start_time": "2024-02-13T23:29:47.074408004Z"
    }
   },
   "outputs": [
    {
     "name": "stdout",
     "output_type": "stream",
     "text": [
      "{'Annie Jhin (NX/RU)': {'Annie Jhin (NX/RU)': {'win_rate': 0.5, 'games_played': 10000}, 'Gwen Zed (IO/SI)': {'win_rate': 0.616, 'games_played': 526}, 'Elder Dragon Mordekaiser Viego (RU/SI)': {'win_rate': 0.6267, 'games_played': 442}, \"Pyke Rek'Sai (BW/SH)\": {'win_rate': 0.556, 'games_played': 464}, 'Elder Dragon Galio Morgana (DE/RU)': {'win_rate': 0.5016, 'games_played': 315}, 'Caitlyn Teemo (FR/PZ)': {'win_rate': 0.7421, 'games_played': 252}, 'Ashe LeBlanc (FR/NX)': {'win_rate': 0.6157, 'games_played': 281}, 'Master Yi Nami (BW/IO)': {'win_rate': 0.6199, 'games_played': 221}, 'Elder Dragon Volibear (FR/RU)': {'win_rate': 0.7647, 'games_played': 238}, 'Aurelion Sol Elder Dragon (MT/RU)': {'win_rate': 0.6434, 'games_played': 244}, 'Karma Sett (IO/PZ)': {'win_rate': 0.4661, 'games_played': 221}, 'Elder Dragon Morgana Shyvana (DE/RU)': {'win_rate': 0.4103, 'games_played': 195}, 'Karma Sett (FR/IO)': {'win_rate': 0.7401, 'games_played': 177}, 'Janna Nilah (BW/PZ)': {'win_rate': 0.298, 'games_played': 198}, 'Maokai Nautilus (BW/SI)': {'win_rate': 0.5815, 'games_played': 184}}, 'Gwen Zed (IO/SI)': {'Annie Jhin (NX/RU)': {'win_rate': 0.384, 'games_played': 526}, 'Gwen Zed (IO/SI)': {'win_rate': 0.5, 'games_played': 10000}, 'Elder Dragon Mordekaiser Viego (RU/SI)': {'win_rate': 0.6594, 'games_played': 411}, \"Pyke Rek'Sai (BW/SH)\": {'win_rate': 0.669, 'games_played': 429}, 'Elder Dragon Galio Morgana (DE/RU)': {'win_rate': 0.5723, 'games_played': 325}, 'Caitlyn Teemo (FR/PZ)': {'win_rate': 0.6393, 'games_played': 280}, 'Ashe LeBlanc (FR/NX)': {'win_rate': 0.5248, 'games_played': 282}, 'Master Yi Nami (BW/IO)': {'win_rate': 0.5817, 'games_played': 251}, 'Elder Dragon Volibear (FR/RU)': {'win_rate': 0.8, 'games_played': 215}, 'Aurelion Sol Elder Dragon (MT/RU)': {'win_rate': 0.6667, 'games_played': 216}, 'Karma Sett (IO/PZ)': {'win_rate': 0.4737, 'games_played': 209}, 'Elder Dragon Morgana Shyvana (DE/RU)': {'win_rate': 0.4171, 'games_played': 175}, 'Karma Sett (FR/IO)': {'win_rate': 0.7291, 'games_played': 203}, 'Janna Nilah (BW/PZ)': {'win_rate': 0.4468, 'games_played': 188}, 'Maokai Nautilus (BW/SI)': {'win_rate': 0.5556, 'games_played': 135}}, 'Elder Dragon Mordekaiser Viego (RU/SI)': {'Annie Jhin (NX/RU)': {'win_rate': 0.3733, 'games_played': 442}, 'Gwen Zed (IO/SI)': {'win_rate': 0.3406, 'games_played': 411}, 'Elder Dragon Mordekaiser Viego (RU/SI)': {'win_rate': 0.5, 'games_played': 10000}, \"Pyke Rek'Sai (BW/SH)\": {'win_rate': 0.5039, 'games_played': 387}, 'Elder Dragon Galio Morgana (DE/RU)': {'win_rate': 0.5858, 'games_played': 268}, 'Caitlyn Teemo (FR/PZ)': {'win_rate': 0.3362, 'games_played': 232}, 'Ashe LeBlanc (FR/NX)': {'win_rate': 0.5826, 'games_played': 230}, 'Master Yi Nami (BW/IO)': {'win_rate': 0.3202, 'games_played': 228}, 'Elder Dragon Volibear (FR/RU)': {'win_rate': 0.4886, 'games_played': 219}, 'Aurelion Sol Elder Dragon (MT/RU)': {'win_rate': 0.5228, 'games_played': 197}, 'Karma Sett (IO/PZ)': {'win_rate': 0.455, 'games_played': 211}, 'Elder Dragon Morgana Shyvana (DE/RU)': {'win_rate': 0.6021, 'games_played': 191}, 'Karma Sett (FR/IO)': {'win_rate': 0.3312, 'games_played': 157}, 'Janna Nilah (BW/PZ)': {'win_rate': 0.4833, 'games_played': 180}, 'Maokai Nautilus (BW/SI)': {'win_rate': 0.5063, 'games_played': 160}}, \"Pyke Rek'Sai (BW/SH)\": {'Annie Jhin (NX/RU)': {'win_rate': 0.444, 'games_played': 464}, 'Gwen Zed (IO/SI)': {'win_rate': 0.331, 'games_played': 429}, 'Elder Dragon Mordekaiser Viego (RU/SI)': {'win_rate': 0.4961, 'games_played': 387}, \"Pyke Rek'Sai (BW/SH)\": {'win_rate': 0.5, 'games_played': 10000}, 'Elder Dragon Galio Morgana (DE/RU)': {'win_rate': 0.6222, 'games_played': 270}, 'Caitlyn Teemo (FR/PZ)': {'win_rate': 0.545, 'games_played': 222}, 'Ashe LeBlanc (FR/NX)': {'win_rate': 0.5, 'games_played': 214}, 'Master Yi Nami (BW/IO)': {'win_rate': 0.658, 'games_played': 193}, 'Elder Dragon Volibear (FR/RU)': {'win_rate': 0.6987, 'games_played': 156}, 'Aurelion Sol Elder Dragon (MT/RU)': {'win_rate': 0.618, 'games_played': 178}, 'Karma Sett (IO/PZ)': {'win_rate': 0.5618, 'games_played': 178}, 'Elder Dragon Morgana Shyvana (DE/RU)': {'win_rate': 0.5461, 'games_played': 152}, 'Karma Sett (FR/IO)': {'win_rate': 0.5935, 'games_played': 155}, 'Janna Nilah (BW/PZ)': {'win_rate': 0.4923, 'games_played': 130}, 'Maokai Nautilus (BW/SI)': {'win_rate': 0.5308, 'games_played': 130}}, 'Elder Dragon Galio Morgana (DE/RU)': {'Annie Jhin (NX/RU)': {'win_rate': 0.4984, 'games_played': 315}, 'Gwen Zed (IO/SI)': {'win_rate': 0.4277, 'games_played': 325}, 'Elder Dragon Mordekaiser Viego (RU/SI)': {'win_rate': 0.4142, 'games_played': 268}, \"Pyke Rek'Sai (BW/SH)\": {'win_rate': 0.3778, 'games_played': 270}, 'Elder Dragon Galio Morgana (DE/RU)': {'win_rate': 0.5, 'games_played': 10000}, 'Caitlyn Teemo (FR/PZ)': {'win_rate': 0.7045, 'games_played': 132}, 'Ashe LeBlanc (FR/NX)': {'win_rate': 0.4887, 'games_played': 133}, 'Master Yi Nami (BW/IO)': {'win_rate': 0.6619, 'games_played': 139}, 'Elder Dragon Volibear (FR/RU)': {'win_rate': 0.5423, 'games_played': 142}, 'Aurelion Sol Elder Dragon (MT/RU)': {'win_rate': 0.5159, 'games_played': 157}, 'Karma Sett (IO/PZ)': {'win_rate': 0.5766, 'games_played': 111}, 'Elder Dragon Morgana Shyvana (DE/RU)': {'win_rate': 0.5351, 'games_played': 114}, 'Karma Sett (FR/IO)': {'win_rate': 0.5545, 'games_played': 101}, 'Janna Nilah (BW/PZ)': {'win_rate': 0.6634, 'games_played': 101}, 'Maokai Nautilus (BW/SI)': {'win_rate': 0.5393, 'games_played': 89}}, 'Caitlyn Teemo (FR/PZ)': {'Annie Jhin (NX/RU)': {'win_rate': 0.254, 'games_played': 252}, 'Gwen Zed (IO/SI)': {'win_rate': 0.3607, 'games_played': 280}, 'Elder Dragon Mordekaiser Viego (RU/SI)': {'win_rate': 0.6638, 'games_played': 232}, \"Pyke Rek'Sai (BW/SH)\": {'win_rate': 0.4505, 'games_played': 222}, 'Elder Dragon Galio Morgana (DE/RU)': {'win_rate': 0.2955, 'games_played': 132}, 'Caitlyn Teemo (FR/PZ)': {'win_rate': 0.5, 'games_played': 10000}, 'Ashe LeBlanc (FR/NX)': {'win_rate': 0.4375, 'games_played': 112}, 'Master Yi Nami (BW/IO)': {'win_rate': 0.4161, 'games_played': 161}, 'Elder Dragon Volibear (FR/RU)': {'win_rate': 0.5577, 'games_played': 104}, 'Aurelion Sol Elder Dragon (MT/RU)': {'win_rate': 0.5568, 'games_played': 88}, 'Karma Sett (IO/PZ)': {'win_rate': 0.7474, 'games_played': 95}, 'Elder Dragon Morgana Shyvana (DE/RU)': {'win_rate': 0.4951, 'games_played': 103}, 'Karma Sett (FR/IO)': {'win_rate': 0.7216, 'games_played': 97}, 'Janna Nilah (BW/PZ)': {'win_rate': 0.7976, 'games_played': 84}, 'Maokai Nautilus (BW/SI)': {'win_rate': 0.6538, 'games_played': 78}}, 'Ashe LeBlanc (FR/NX)': {'Annie Jhin (NX/RU)': {'win_rate': 0.3843, 'games_played': 281}, 'Gwen Zed (IO/SI)': {'win_rate': 0.4752, 'games_played': 282}, 'Elder Dragon Mordekaiser Viego (RU/SI)': {'win_rate': 0.4174, 'games_played': 230}, \"Pyke Rek'Sai (BW/SH)\": {'win_rate': 0.5, 'games_played': 214}, 'Elder Dragon Galio Morgana (DE/RU)': {'win_rate': 0.5113, 'games_played': 133}, 'Caitlyn Teemo (FR/PZ)': {'win_rate': 0.5625, 'games_played': 112}, 'Ashe LeBlanc (FR/NX)': {'win_rate': 0.5, 'games_played': 10000}, 'Master Yi Nami (BW/IO)': {'win_rate': 0.594, 'games_played': 133}, 'Elder Dragon Volibear (FR/RU)': {'win_rate': 0.6022, 'games_played': 93}, 'Aurelion Sol Elder Dragon (MT/RU)': {'win_rate': 0.6354, 'games_played': 96}, 'Karma Sett (IO/PZ)': {'win_rate': 0.6016, 'games_played': 128}, 'Elder Dragon Morgana Shyvana (DE/RU)': {'win_rate': 0.581, 'games_played': 105}, 'Karma Sett (FR/IO)': {'win_rate': 0.5, 'games_played': 112}, 'Janna Nilah (BW/PZ)': {'win_rate': 0.4839, 'games_played': 93}, 'Maokai Nautilus (BW/SI)': {'win_rate': 0.6386, 'games_played': 83}}, 'Master Yi Nami (BW/IO)': {'Annie Jhin (NX/RU)': {'win_rate': 0.3801, 'games_played': 221}, 'Gwen Zed (IO/SI)': {'win_rate': 0.4183, 'games_played': 251}, 'Elder Dragon Mordekaiser Viego (RU/SI)': {'win_rate': 0.6798, 'games_played': 228}, \"Pyke Rek'Sai (BW/SH)\": {'win_rate': 0.342, 'games_played': 193}, 'Elder Dragon Galio Morgana (DE/RU)': {'win_rate': 0.3381, 'games_played': 139}, 'Caitlyn Teemo (FR/PZ)': {'win_rate': 0.5839, 'games_played': 161}, 'Ashe LeBlanc (FR/NX)': {'win_rate': 0.406, 'games_played': 133}, 'Master Yi Nami (BW/IO)': {'win_rate': 0.5, 'games_played': 10000}, 'Elder Dragon Volibear (FR/RU)': {'win_rate': 0.5556, 'games_played': 117}, 'Aurelion Sol Elder Dragon (MT/RU)': {'win_rate': 0.5932, 'games_played': 118}, 'Karma Sett (IO/PZ)': {'win_rate': 0.4505, 'games_played': 111}, 'Elder Dragon Morgana Shyvana (DE/RU)': {'win_rate': 0.3604, 'games_played': 111}, 'Karma Sett (FR/IO)': {'win_rate': 0.4894, 'games_played': 94}, 'Janna Nilah (BW/PZ)': {'win_rate': 0.2688, 'games_played': 93}, 'Maokai Nautilus (BW/SI)': {'win_rate': 0.6125, 'games_played': 80}}, 'Elder Dragon Volibear (FR/RU)': {'Annie Jhin (NX/RU)': {'win_rate': 0.2353, 'games_played': 238}, 'Gwen Zed (IO/SI)': {'win_rate': 0.2, 'games_played': 215}, 'Elder Dragon Mordekaiser Viego (RU/SI)': {'win_rate': 0.5114, 'games_played': 219}, \"Pyke Rek'Sai (BW/SH)\": {'win_rate': 0.3013, 'games_played': 156}, 'Elder Dragon Galio Morgana (DE/RU)': {'win_rate': 0.4577, 'games_played': 142}, 'Caitlyn Teemo (FR/PZ)': {'win_rate': 0.4423, 'games_played': 104}, 'Ashe LeBlanc (FR/NX)': {'win_rate': 0.3978, 'games_played': 93}, 'Master Yi Nami (BW/IO)': {'win_rate': 0.4444, 'games_played': 117}, 'Elder Dragon Volibear (FR/RU)': {'win_rate': 0.5, 'games_played': 10000}, 'Aurelion Sol Elder Dragon (MT/RU)': {'win_rate': 0.6742, 'games_played': 132}, 'Karma Sett (IO/PZ)': {'win_rate': 0.5758, 'games_played': 99}, 'Elder Dragon Morgana Shyvana (DE/RU)': {'win_rate': 0.6353, 'games_played': 85}, 'Karma Sett (FR/IO)': {'win_rate': 0.35, 'games_played': 100}, 'Janna Nilah (BW/PZ)': {'win_rate': 0.3902, 'games_played': 82}, 'Maokai Nautilus (BW/SI)': {'win_rate': 0.5422, 'games_played': 83}}, 'Aurelion Sol Elder Dragon (MT/RU)': {'Annie Jhin (NX/RU)': {'win_rate': 0.3566, 'games_played': 244}, 'Gwen Zed (IO/SI)': {'win_rate': 0.3333, 'games_played': 216}, 'Elder Dragon Mordekaiser Viego (RU/SI)': {'win_rate': 0.4772, 'games_played': 197}, \"Pyke Rek'Sai (BW/SH)\": {'win_rate': 0.382, 'games_played': 178}, 'Elder Dragon Galio Morgana (DE/RU)': {'win_rate': 0.4841, 'games_played': 157}, 'Caitlyn Teemo (FR/PZ)': {'win_rate': 0.4432, 'games_played': 88}, 'Ashe LeBlanc (FR/NX)': {'win_rate': 0.3646, 'games_played': 96}, 'Master Yi Nami (BW/IO)': {'win_rate': 0.4068, 'games_played': 118}, 'Elder Dragon Volibear (FR/RU)': {'win_rate': 0.3258, 'games_played': 132}, 'Aurelion Sol Elder Dragon (MT/RU)': {'win_rate': 0.5, 'games_played': 10000}, 'Karma Sett (IO/PZ)': {'win_rate': 0.438, 'games_played': 121}, 'Elder Dragon Morgana Shyvana (DE/RU)': {'win_rate': 0.4429, 'games_played': 70}, 'Karma Sett (FR/IO)': {'win_rate': 0.1765, 'games_played': 85}, 'Janna Nilah (BW/PZ)': {'win_rate': 0.4643, 'games_played': 84}, 'Maokai Nautilus (BW/SI)': {'win_rate': 0.4416, 'games_played': 77}}, 'Karma Sett (IO/PZ)': {'Annie Jhin (NX/RU)': {'win_rate': 0.5339, 'games_played': 221}, 'Gwen Zed (IO/SI)': {'win_rate': 0.5263, 'games_played': 209}, 'Elder Dragon Mordekaiser Viego (RU/SI)': {'win_rate': 0.545, 'games_played': 211}, \"Pyke Rek'Sai (BW/SH)\": {'win_rate': 0.4382, 'games_played': 178}, 'Elder Dragon Galio Morgana (DE/RU)': {'win_rate': 0.4234, 'games_played': 111}, 'Caitlyn Teemo (FR/PZ)': {'win_rate': 0.2526, 'games_played': 95}, 'Ashe LeBlanc (FR/NX)': {'win_rate': 0.3984, 'games_played': 128}, 'Master Yi Nami (BW/IO)': {'win_rate': 0.5496, 'games_played': 111}, 'Elder Dragon Volibear (FR/RU)': {'win_rate': 0.4242, 'games_played': 99}, 'Aurelion Sol Elder Dragon (MT/RU)': {'win_rate': 0.562, 'games_played': 121}, 'Karma Sett (IO/PZ)': {'win_rate': 0.5, 'games_played': 10000}, 'Elder Dragon Morgana Shyvana (DE/RU)': {'win_rate': 0.3871, 'games_played': 93}, 'Karma Sett (FR/IO)': {'win_rate': 0.5233, 'games_played': 86}, 'Janna Nilah (BW/PZ)': {'win_rate': 0.5765, 'games_played': 85}, 'Maokai Nautilus (BW/SI)': {'win_rate': 0.3944, 'games_played': 71}}, 'Elder Dragon Morgana Shyvana (DE/RU)': {'Annie Jhin (NX/RU)': {'win_rate': 0.5897, 'games_played': 195}, 'Gwen Zed (IO/SI)': {'win_rate': 0.5829, 'games_played': 175}, 'Elder Dragon Mordekaiser Viego (RU/SI)': {'win_rate': 0.3979, 'games_played': 191}, \"Pyke Rek'Sai (BW/SH)\": {'win_rate': 0.4539, 'games_played': 152}, 'Elder Dragon Galio Morgana (DE/RU)': {'win_rate': 0.4649, 'games_played': 114}, 'Caitlyn Teemo (FR/PZ)': {'win_rate': 0.5049, 'games_played': 103}, 'Ashe LeBlanc (FR/NX)': {'win_rate': 0.419, 'games_played': 105}, 'Master Yi Nami (BW/IO)': {'win_rate': 0.6396, 'games_played': 111}, 'Elder Dragon Volibear (FR/RU)': {'win_rate': 0.3647, 'games_played': 85}, 'Aurelion Sol Elder Dragon (MT/RU)': {'win_rate': 0.5571, 'games_played': 70}, 'Karma Sett (IO/PZ)': {'win_rate': 0.6129, 'games_played': 93}, 'Elder Dragon Morgana Shyvana (DE/RU)': {'win_rate': 0.5, 'games_played': 10000}, 'Karma Sett (FR/IO)': {'win_rate': 0.52, 'games_played': 75}, 'Janna Nilah (BW/PZ)': {'win_rate': 0.7813, 'games_played': 96}, 'Maokai Nautilus (BW/SI)': {'win_rate': 0.5263, 'games_played': 76}}, 'Karma Sett (FR/IO)': {'Annie Jhin (NX/RU)': {'win_rate': 0.2599, 'games_played': 177}, 'Gwen Zed (IO/SI)': {'win_rate': 0.2709, 'games_played': 203}, 'Elder Dragon Mordekaiser Viego (RU/SI)': {'win_rate': 0.6688, 'games_played': 157}, \"Pyke Rek'Sai (BW/SH)\": {'win_rate': 0.4065, 'games_played': 155}, 'Elder Dragon Galio Morgana (DE/RU)': {'win_rate': 0.4455, 'games_played': 101}, 'Caitlyn Teemo (FR/PZ)': {'win_rate': 0.2784, 'games_played': 97}, 'Ashe LeBlanc (FR/NX)': {'win_rate': 0.5, 'games_played': 112}, 'Master Yi Nami (BW/IO)': {'win_rate': 0.5106, 'games_played': 94}, 'Elder Dragon Volibear (FR/RU)': {'win_rate': 0.65, 'games_played': 100}, 'Aurelion Sol Elder Dragon (MT/RU)': {'win_rate': 0.8235, 'games_played': 85}, 'Karma Sett (IO/PZ)': {'win_rate': 0.4767, 'games_played': 86}, 'Elder Dragon Morgana Shyvana (DE/RU)': {'win_rate': 0.48, 'games_played': 75}, 'Karma Sett (FR/IO)': {'win_rate': 0.5, 'games_played': 10000}, 'Janna Nilah (BW/PZ)': {'win_rate': 0.3194, 'games_played': 72}, 'Maokai Nautilus (BW/SI)': {'win_rate': 0.3729, 'games_played': 59}}, 'Janna Nilah (BW/PZ)': {'Annie Jhin (NX/RU)': {'win_rate': 0.702, 'games_played': 198}, 'Gwen Zed (IO/SI)': {'win_rate': 0.5532, 'games_played': 188}, 'Elder Dragon Mordekaiser Viego (RU/SI)': {'win_rate': 0.5167, 'games_played': 180}, \"Pyke Rek'Sai (BW/SH)\": {'win_rate': 0.5077, 'games_played': 130}, 'Elder Dragon Galio Morgana (DE/RU)': {'win_rate': 0.3366, 'games_played': 101}, 'Caitlyn Teemo (FR/PZ)': {'win_rate': 0.2024, 'games_played': 84}, 'Ashe LeBlanc (FR/NX)': {'win_rate': 0.5161, 'games_played': 93}, 'Master Yi Nami (BW/IO)': {'win_rate': 0.7312, 'games_played': 93}, 'Elder Dragon Volibear (FR/RU)': {'win_rate': 0.6098, 'games_played': 82}, 'Aurelion Sol Elder Dragon (MT/RU)': {'win_rate': 0.5357, 'games_played': 84}, 'Karma Sett (IO/PZ)': {'win_rate': 0.4235, 'games_played': 85}, 'Elder Dragon Morgana Shyvana (DE/RU)': {'win_rate': 0.2188, 'games_played': 96}, 'Karma Sett (FR/IO)': {'win_rate': 0.6806, 'games_played': 72}, 'Janna Nilah (BW/PZ)': {'win_rate': 0.5, 'games_played': 10000}, 'Maokai Nautilus (BW/SI)': {'win_rate': 0.4407, 'games_played': 59}}, 'Maokai Nautilus (BW/SI)': {'Annie Jhin (NX/RU)': {'win_rate': 0.4185, 'games_played': 184}, 'Gwen Zed (IO/SI)': {'win_rate': 0.4444, 'games_played': 135}, 'Elder Dragon Mordekaiser Viego (RU/SI)': {'win_rate': 0.4813, 'games_played': 160}, \"Pyke Rek'Sai (BW/SH)\": {'win_rate': 0.4692, 'games_played': 130}, 'Elder Dragon Galio Morgana (DE/RU)': {'win_rate': 0.4607, 'games_played': 89}, 'Caitlyn Teemo (FR/PZ)': {'win_rate': 0.3205, 'games_played': 78}, 'Ashe LeBlanc (FR/NX)': {'win_rate': 0.3614, 'games_played': 83}, 'Master Yi Nami (BW/IO)': {'win_rate': 0.3875, 'games_played': 80}, 'Elder Dragon Volibear (FR/RU)': {'win_rate': 0.4578, 'games_played': 83}, 'Aurelion Sol Elder Dragon (MT/RU)': {'win_rate': 0.5584, 'games_played': 77}, 'Karma Sett (IO/PZ)': {'win_rate': 0.6056, 'games_played': 71}, 'Elder Dragon Morgana Shyvana (DE/RU)': {'win_rate': 0.4737, 'games_played': 76}, 'Karma Sett (FR/IO)': {'win_rate': 0.6271, 'games_played': 59}, 'Janna Nilah (BW/PZ)': {'win_rate': 0.5593, 'games_played': 59}, 'Maokai Nautilus (BW/SI)': {'win_rate': 0.5, 'games_played': 10000}}}\n"
     ]
    }
   ],
   "source": [
    "table = {key: {} for key in decks}\n",
    "muIndex = 0\n",
    "for rawIndex in range(len(decks) * len(decks)):\n",
    "    i = rawIndex // 15\n",
    "    j = rawIndex % 15\n",
    "    deck1 = decks[i]\n",
    "    deck2 = decks[j]\n",
    "    if i == j:  #diagonal on the match up, the deck is playing itself\n",
    "        table[deck1][deck2] = {\"win_rate\": 0.5, \"games_played\": 10000}\n",
    "        continue\n",
    "    mu = matchUps[muIndex]\n",
    "    muIndex += 1\n",
    "    table[deck1][deck2] = {\"win_rate\": mu[\"winRate\"], \"games_played\": mu[\"gamesPlayed\"]}\n",
    "print(table)"
   ]
  },
  {
   "cell_type": "markdown",
   "source": [
    "Scraping overall play and winrates"
   ],
   "metadata": {
    "collapsed": false
   }
  },
  {
   "cell_type": "code",
   "outputs": [
    {
     "data": {
      "text/plain": "15"
     },
     "execution_count": 46,
     "metadata": {},
     "output_type": "execute_result"
    }
   ],
   "source": [
    "deckCells = soup.select(\".grid-container:not(:first-child):not(:last-child) > .grid-item.side-header:first-child\")\n",
    "len(deckCells)"
   ],
   "metadata": {
    "collapsed": false,
    "ExecuteTime": {
     "end_time": "2024-02-13T22:57:27.435396309Z",
     "start_time": "2024-02-13T22:57:27.418121070Z"
    }
   },
   "execution_count": 46
  },
  {
   "cell_type": "code",
   "outputs": [],
   "source": [
    "from dataclasses import dataclass, asdict\n",
    "\n",
    "\n",
    "@dataclass\n",
    "class Archetype:\n",
    "    name: str\n",
    "    games_played: int\n",
    "    win_rate: float\n",
    "    play_rate: float\n",
    "\n",
    "\n",
    "def parseDeckCell(deckCell):\n",
    "    children = list(deckCell.childGenerator())\n",
    "    children = [child.text for child in children]\n",
    "    name = children[0]\n",
    "\n",
    "    games_played = children[1].split(\" \")[1]\n",
    "    games_played = int(games_played)\n",
    "\n",
    "    win_rate = children[2].split(\" \")[1]\n",
    "    win_rate = handleWinrate(win_rate)\n",
    "\n",
    "    play_rate = children[4].split(\" \")[1]\n",
    "    play_rate = handleWinrate(play_rate)\n",
    "\n",
    "    ans = Archetype(name, games_played, win_rate, play_rate)\n",
    "    return ans\n",
    "\n",
    "\n",
    "archeTypes = [parseDeckCell(cell) for cell in deckCells]"
   ],
   "metadata": {
    "collapsed": false,
    "ExecuteTime": {
     "end_time": "2024-02-13T23:25:42.123171838Z",
     "start_time": "2024-02-13T23:25:42.115511670Z"
    }
   },
   "execution_count": 74
  },
  {
   "cell_type": "markdown",
   "source": [
    "# Sending to DB"
   ],
   "metadata": {
    "collapsed": false
   }
  },
  {
   "cell_type": "code",
   "outputs": [],
   "source": [
    "from sqlalchemy import create_engine, text\n",
    "from dotenv import load_dotenv\n",
    "import os\n",
    "\n",
    "load_dotenv()\n",
    "\n",
    "db_url = os.environ.get(\"DB_URI\")\n",
    "engine = create_engine(db_url, pool_pre_ping=True);"
   ],
   "metadata": {
    "collapsed": false,
    "ExecuteTime": {
     "end_time": "2024-02-14T19:10:56.831190099Z",
     "start_time": "2024-02-14T19:10:56.822731132Z"
    }
   },
   "execution_count": 85
  },
  {
   "cell_type": "markdown",
   "source": [
    "Inserting archetypes"
   ],
   "metadata": {
    "collapsed": false
   }
  },
  {
   "cell_type": "code",
   "outputs": [],
   "source": [
    "def insert_decks_and_matchups(archeTypes, table):\n",
    "    with engine.begin() as connection:\n",
    "        #clearing table first\n",
    "        cmd = \"TRUNCATE archetypes, matchups\"\n",
    "        connection.execute(text(cmd))\n",
    "        \n",
    "        #inserting decks\n",
    "        for archeType in archeTypes:\n",
    "            cmd = \"insert into archetypes (NAME, games_played, win_rate, play_rate) VALUES (:name, :games_played, :win_rate, :play_rate)\"\n",
    "            connection.execute(text(cmd), asdict(archeType))\n",
    "            \n",
    "        #inserting matchups\n",
    "        for playing_deck, opposing_decks in table.items():\n",
    "            for opposing_deck, data in opposing_decks.items():\n",
    "                cmd = \"\"\"INSERT INTO matchups (playing, opposing, win_rate, games_played) VALUES (\n",
    "                    (SELECT id from archetypes WHERE\n",
    "                        archetypes.name = :playing_name),\n",
    "                    (SELECT id from archetypes WHERE\n",
    "                        archetypes.name = :opposing_name),\n",
    "                    :win_rate,\n",
    "                    :games_played\n",
    "                    )\n",
    "                \"\"\"\n",
    "                binds = {\"playing_name\": playing_deck, \"opposing_name\": opposing_deck, \"win_rate\": data[\"win_rate\"],\n",
    "                         \"games_played\": data[\"games_played\"]}\n",
    "                connection.execute(text(cmd), binds)\n"
   ],
   "metadata": {
    "collapsed": false,
    "ExecuteTime": {
     "end_time": "2024-02-14T19:14:34.556792694Z",
     "start_time": "2024-02-14T19:14:34.513712441Z"
    }
   },
   "execution_count": 88
  },
  {
   "cell_type": "code",
   "outputs": [],
   "source": [
    "insert_decks_and_matchups(archeTypes, table)"
   ],
   "metadata": {
    "collapsed": false,
    "ExecuteTime": {
     "end_time": "2024-02-14T19:14:43.362984923Z",
     "start_time": "2024-02-14T19:14:35.740791446Z"
    }
   },
   "execution_count": 89
  }
 ],
 "metadata": {
  "kernelspec": {
   "display_name": "venv",
   "language": "python",
   "name": "python3"
  },
  "language_info": {
   "codemirror_mode": {
    "name": "ipython",
    "version": 3
   },
   "file_extension": ".py",
   "mimetype": "text/x-python",
   "name": "python",
   "nbconvert_exporter": "python",
   "pygments_lexer": "ipython3",
   "version": "3.10.6"
  }
 },
 "nbformat": 4,
 "nbformat_minor": 2
}
