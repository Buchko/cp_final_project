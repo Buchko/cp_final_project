{
 "cells": [
  {
   "cell_type": "code",
   "outputs": [],
   "source": [
    "import requests\n",
    "from bs4 import BeautifulSoup\n",
    "import functools"
   ],
   "metadata": {
    "collapsed": false,
    "ExecuteTime": {
     "end_time": "2024-02-14T20:17:11.870391157Z",
     "start_time": "2024-02-14T20:17:11.829287682Z"
    }
   },
   "execution_count": 4
  },
  {
   "cell_type": "markdown",
   "metadata": {},
   "source": []
  },
  {
   "cell_type": "markdown",
   "metadata": {},
   "source": [
    "Grabbing Webpage"
   ]
  },
  {
   "cell_type": "code",
   "execution_count": 5,
   "metadata": {
    "ExecuteTime": {
     "end_time": "2024-02-14T20:17:12.482893594Z",
     "start_time": "2024-02-14T20:17:11.874609809Z"
    }
   },
   "outputs": [],
   "source": [
    "url = \"https://masteringruneterra.com/mu-table/\"\n",
    "page = requests.get(url)\n",
    "\n",
    "soup = BeautifulSoup(page.content, 'html.parser')"
   ]
  },
  {
   "cell_type": "markdown",
   "metadata": {},
   "source": [
    "Doing finding and stuff"
   ]
  },
  {
   "cell_type": "code",
   "execution_count": 6,
   "metadata": {
    "ExecuteTime": {
     "end_time": "2024-02-14T20:17:12.484151793Z",
     "start_time": "2024-02-14T20:17:12.482785230Z"
    }
   },
   "outputs": [
    {
     "name": "stdout",
     "output_type": "stream",
     "text": [
      "15\n",
      "['Gwen Zed (IO/SI)', 'Annie Jhin (NX/RU)', 'Elder Dragon Mordekaiser Viego (RU/SI)', \"Pyke Rek'Sai (BW/SH)\", 'Elder Dragon Galio Morgana (DE/RU)', 'Master Yi Nami (BW/IO)', 'Ashe LeBlanc (FR/NX)', 'Caitlyn Teemo (FR/PZ)', 'Elder Dragon Volibear (FR/RU)', 'Aurelion Sol Elder Dragon (MT/RU)', 'Karma Sett (IO/PZ)', 'Elder Dragon Morgana Shyvana (DE/RU)', 'Karma Sett (FR/IO)', 'Janna Nilah (BW/PZ)', 'Maokai Nautilus (BW/SI)']\n"
     ]
    }
   ],
   "source": [
    "headers = soup.select(\"div.grid-item:not(.versus-cell)\")\n",
    "headers = map(lambda x: x.text.strip(), headers)\n",
    "decks = list(headers)[1:16]\n",
    "print(len(decks))\n",
    "print(decks)"
   ]
  },
  {
   "cell_type": "code",
   "outputs": [],
   "source": [
    "def handleWinrate(winRate: str) -> str:\n",
    "    winRate = winRate[:-1]  #dropping %\n",
    "    winRate = float(winRate)\n",
    "    winRate = winRate / 100\n",
    "    winRate = round(winRate, 4)\n",
    "    return winRate\n"
   ],
   "metadata": {
    "collapsed": false,
    "ExecuteTime": {
     "end_time": "2024-02-14T20:17:12.484989721Z",
     "start_time": "2024-02-14T20:17:12.483044979Z"
    }
   },
   "execution_count": 7
  },
  {
   "cell_type": "code",
   "execution_count": 8,
   "metadata": {
    "ExecuteTime": {
     "end_time": "2024-02-14T20:17:12.486089952Z",
     "start_time": "2024-02-14T20:17:12.483234015Z"
    }
   },
   "outputs": [
    {
     "data": {
      "text/plain": "[{'winRate': 0.3862, 'gamesPlayed': 593},\n {'winRate': 0.6562, 'gamesPlayed': 477},\n {'winRate': 0.6667, 'gamesPlayed': 480},\n {'winRate': 0.5623, 'gamesPlayed': 377},\n {'winRate': 0.5831, 'gamesPlayed': 307},\n {'winRate': 0.5273, 'gamesPlayed': 330},\n {'winRate': 0.6317, 'gamesPlayed': 315},\n {'winRate': 0.805, 'gamesPlayed': 241},\n {'winRate': 0.6459, 'gamesPlayed': 257},\n {'winRate': 0.4938, 'gamesPlayed': 243}]"
     },
     "execution_count": 8,
     "metadata": {},
     "output_type": "execute_result"
    }
   ],
   "source": [
    "\n",
    "cells = soup.select(\".versus-cell > div\")\n",
    "rawText = map(lambda x: x.text.strip(), cells)\n",
    "\n",
    "\n",
    "def getWinRateAndGames(text):\n",
    "    winRate, games = text.split(\"\\n\");\n",
    "    #handing winrate\n",
    "    winRate = handleWinrate(winRate)\n",
    "\n",
    "    #handling games\n",
    "    games = games.split(\" \")[1]\n",
    "    games = int(games)\n",
    "    return {\"winRate\": winRate, \"gamesPlayed\": games}\n",
    "\n",
    "\n",
    "matchUps = list(map(getWinRateAndGames, rawText))\n",
    "matchUps[0:10]\n",
    "\n"
   ]
  },
  {
   "cell_type": "markdown",
   "metadata": {},
   "source": [
    "Converting to a table"
   ]
  },
  {
   "cell_type": "code",
   "execution_count": 9,
   "metadata": {
    "ExecuteTime": {
     "end_time": "2024-02-14T20:17:12.488683495Z",
     "start_time": "2024-02-14T20:17:12.483421698Z"
    }
   },
   "outputs": [
    {
     "name": "stdout",
     "output_type": "stream",
     "text": [
      "{'Gwen Zed (IO/SI)': {'Gwen Zed (IO/SI)': {'win_rate': 0.5, 'games_played': 10000}, 'Annie Jhin (NX/RU)': {'win_rate': 0.3862, 'games_played': 593}, 'Elder Dragon Mordekaiser Viego (RU/SI)': {'win_rate': 0.6562, 'games_played': 477}, \"Pyke Rek'Sai (BW/SH)\": {'win_rate': 0.6667, 'games_played': 480}, 'Elder Dragon Galio Morgana (DE/RU)': {'win_rate': 0.5623, 'games_played': 377}, 'Master Yi Nami (BW/IO)': {'win_rate': 0.5831, 'games_played': 307}, 'Ashe LeBlanc (FR/NX)': {'win_rate': 0.5273, 'games_played': 330}, 'Caitlyn Teemo (FR/PZ)': {'win_rate': 0.6317, 'games_played': 315}, 'Elder Dragon Volibear (FR/RU)': {'win_rate': 0.805, 'games_played': 241}, 'Aurelion Sol Elder Dragon (MT/RU)': {'win_rate': 0.6459, 'games_played': 257}, 'Karma Sett (IO/PZ)': {'win_rate': 0.4938, 'games_played': 243}, 'Elder Dragon Morgana Shyvana (DE/RU)': {'win_rate': 0.4121, 'games_played': 199}, 'Karma Sett (FR/IO)': {'win_rate': 0.7354, 'games_played': 223}, 'Janna Nilah (BW/PZ)': {'win_rate': 0.4429, 'games_played': 210}, 'Maokai Nautilus (BW/SI)': {'win_rate': 0.5714, 'games_played': 168}}, 'Annie Jhin (NX/RU)': {'Gwen Zed (IO/SI)': {'win_rate': 0.6138, 'games_played': 593}, 'Annie Jhin (NX/RU)': {'win_rate': 0.5, 'games_played': 10000}, 'Elder Dragon Mordekaiser Viego (RU/SI)': {'win_rate': 0.6191, 'games_played': 491}, \"Pyke Rek'Sai (BW/SH)\": {'win_rate': 0.5501, 'games_played': 509}, 'Elder Dragon Galio Morgana (DE/RU)': {'win_rate': 0.5013, 'games_played': 371}, 'Master Yi Nami (BW/IO)': {'win_rate': 0.6278, 'games_played': 266}, 'Ashe LeBlanc (FR/NX)': {'win_rate': 0.6265, 'games_played': 324}, 'Caitlyn Teemo (FR/PZ)': {'win_rate': 0.742, 'games_played': 283}, 'Elder Dragon Volibear (FR/RU)': {'win_rate': 0.7868, 'games_played': 272}, 'Aurelion Sol Elder Dragon (MT/RU)': {'win_rate': 0.6493, 'games_played': 268}, 'Karma Sett (IO/PZ)': {'win_rate': 0.4494, 'games_played': 247}, 'Elder Dragon Morgana Shyvana (DE/RU)': {'win_rate': 0.4009, 'games_played': 217}, 'Karma Sett (FR/IO)': {'win_rate': 0.7211, 'games_played': 190}, 'Janna Nilah (BW/PZ)': {'win_rate': 0.311, 'games_played': 209}, 'Maokai Nautilus (BW/SI)': {'win_rate': 0.5805, 'games_played': 205}}, 'Elder Dragon Mordekaiser Viego (RU/SI)': {'Gwen Zed (IO/SI)': {'win_rate': 0.3438, 'games_played': 477}, 'Annie Jhin (NX/RU)': {'win_rate': 0.3809, 'games_played': 491}, 'Elder Dragon Mordekaiser Viego (RU/SI)': {'win_rate': 0.5, 'games_played': 10000}, \"Pyke Rek'Sai (BW/SH)\": {'win_rate': 0.4988, 'games_played': 433}, 'Elder Dragon Galio Morgana (DE/RU)': {'win_rate': 0.5681, 'games_played': 301}, 'Master Yi Nami (BW/IO)': {'win_rate': 0.317, 'games_played': 265}, 'Ashe LeBlanc (FR/NX)': {'win_rate': 0.5627, 'games_played': 263}, 'Caitlyn Teemo (FR/PZ)': {'win_rate': 0.349, 'games_played': 255}, 'Elder Dragon Volibear (FR/RU)': {'win_rate': 0.4918, 'games_played': 244}, 'Aurelion Sol Elder Dragon (MT/RU)': {'win_rate': 0.5202, 'games_played': 223}, 'Karma Sett (IO/PZ)': {'win_rate': 0.4626, 'games_played': 227}, 'Elder Dragon Morgana Shyvana (DE/RU)': {'win_rate': 0.599, 'games_played': 207}, 'Karma Sett (FR/IO)': {'win_rate': 0.3314, 'games_played': 175}, 'Janna Nilah (BW/PZ)': {'win_rate': 0.4785, 'games_played': 186}, 'Maokai Nautilus (BW/SI)': {'win_rate': 0.5029, 'games_played': 175}}, \"Pyke Rek'Sai (BW/SH)\": {'Gwen Zed (IO/SI)': {'win_rate': 0.3333, 'games_played': 480}, 'Annie Jhin (NX/RU)': {'win_rate': 0.4499, 'games_played': 509}, 'Elder Dragon Mordekaiser Viego (RU/SI)': {'win_rate': 0.5012, 'games_played': 433}, \"Pyke Rek'Sai (BW/SH)\": {'win_rate': 0.5, 'games_played': 10000}, 'Elder Dragon Galio Morgana (DE/RU)': {'win_rate': 0.6254, 'games_played': 307}, 'Master Yi Nami (BW/IO)': {'win_rate': 0.6607, 'games_played': 224}, 'Ashe LeBlanc (FR/NX)': {'win_rate': 0.4899, 'games_played': 247}, 'Caitlyn Teemo (FR/PZ)': {'win_rate': 0.5635, 'games_played': 252}, 'Elder Dragon Volibear (FR/RU)': {'win_rate': 0.691, 'games_played': 178}, 'Aurelion Sol Elder Dragon (MT/RU)': {'win_rate': 0.6373, 'games_played': 204}, 'Karma Sett (IO/PZ)': {'win_rate': 0.5661, 'games_played': 189}, 'Elder Dragon Morgana Shyvana (DE/RU)': {'win_rate': 0.5322, 'games_played': 171}, 'Karma Sett (FR/IO)': {'win_rate': 0.6171, 'games_played': 175}, 'Janna Nilah (BW/PZ)': {'win_rate': 0.4718, 'games_played': 142}, 'Maokai Nautilus (BW/SI)': {'win_rate': 0.5369, 'games_played': 149}}, 'Elder Dragon Galio Morgana (DE/RU)': {'Gwen Zed (IO/SI)': {'win_rate': 0.4377, 'games_played': 377}, 'Annie Jhin (NX/RU)': {'win_rate': 0.4987, 'games_played': 371}, 'Elder Dragon Mordekaiser Viego (RU/SI)': {'win_rate': 0.4319, 'games_played': 301}, \"Pyke Rek'Sai (BW/SH)\": {'win_rate': 0.3746, 'games_played': 307}, 'Elder Dragon Galio Morgana (DE/RU)': {'win_rate': 0.5, 'games_played': 10000}, 'Master Yi Nami (BW/IO)': {'win_rate': 0.6805, 'games_played': 169}, 'Ashe LeBlanc (FR/NX)': {'win_rate': 0.5127, 'games_played': 158}, 'Caitlyn Teemo (FR/PZ)': {'win_rate': 0.6928, 'games_played': 166}, 'Elder Dragon Volibear (FR/RU)': {'win_rate': 0.5395, 'games_played': 152}, 'Aurelion Sol Elder Dragon (MT/RU)': {'win_rate': 0.5205, 'games_played': 171}, 'Karma Sett (IO/PZ)': {'win_rate': 0.576, 'games_played': 125}, 'Elder Dragon Morgana Shyvana (DE/RU)': {'win_rate': 0.542, 'games_played': 131}, 'Karma Sett (FR/IO)': {'win_rate': 0.5812, 'games_played': 117}, 'Janna Nilah (BW/PZ)': {'win_rate': 0.6549, 'games_played': 113}, 'Maokai Nautilus (BW/SI)': {'win_rate': 0.5464, 'games_played': 97}}, 'Master Yi Nami (BW/IO)': {'Gwen Zed (IO/SI)': {'win_rate': 0.4169, 'games_played': 307}, 'Annie Jhin (NX/RU)': {'win_rate': 0.3722, 'games_played': 266}, 'Elder Dragon Mordekaiser Viego (RU/SI)': {'win_rate': 0.683, 'games_played': 265}, \"Pyke Rek'Sai (BW/SH)\": {'win_rate': 0.3393, 'games_played': 224}, 'Elder Dragon Galio Morgana (DE/RU)': {'win_rate': 0.3195, 'games_played': 169}, 'Master Yi Nami (BW/IO)': {'win_rate': 0.5, 'games_played': 10000}, 'Ashe LeBlanc (FR/NX)': {'win_rate': 0.3976, 'games_played': 166}, 'Caitlyn Teemo (FR/PZ)': {'win_rate': 0.5722, 'games_played': 187}, 'Elder Dragon Volibear (FR/RU)': {'win_rate': 0.5504, 'games_played': 129}, 'Aurelion Sol Elder Dragon (MT/RU)': {'win_rate': 0.6154, 'games_played': 143}, 'Karma Sett (IO/PZ)': {'win_rate': 0.4733, 'games_played': 131}, 'Elder Dragon Morgana Shyvana (DE/RU)': {'win_rate': 0.3817, 'games_played': 131}, 'Karma Sett (FR/IO)': {'win_rate': 0.5094, 'games_played': 106}, 'Janna Nilah (BW/PZ)': {'win_rate': 0.3269, 'games_played': 104}, 'Maokai Nautilus (BW/SI)': {'win_rate': 0.617, 'games_played': 94}}, 'Ashe LeBlanc (FR/NX)': {'Gwen Zed (IO/SI)': {'win_rate': 0.4727, 'games_played': 330}, 'Annie Jhin (NX/RU)': {'win_rate': 0.3735, 'games_played': 324}, 'Elder Dragon Mordekaiser Viego (RU/SI)': {'win_rate': 0.4373, 'games_played': 263}, \"Pyke Rek'Sai (BW/SH)\": {'win_rate': 0.5101, 'games_played': 247}, 'Elder Dragon Galio Morgana (DE/RU)': {'win_rate': 0.4873, 'games_played': 158}, 'Master Yi Nami (BW/IO)': {'win_rate': 0.6024, 'games_played': 166}, 'Ashe LeBlanc (FR/NX)': {'win_rate': 0.5, 'games_played': 10000}, 'Caitlyn Teemo (FR/PZ)': {'win_rate': 0.5649, 'games_played': 131}, 'Elder Dragon Volibear (FR/RU)': {'win_rate': 0.6262, 'games_played': 107}, 'Aurelion Sol Elder Dragon (MT/RU)': {'win_rate': 0.6303, 'games_played': 119}, 'Karma Sett (IO/PZ)': {'win_rate': 0.5793, 'games_played': 145}, 'Elder Dragon Morgana Shyvana (DE/RU)': {'win_rate': 0.6016, 'games_played': 123}, 'Karma Sett (FR/IO)': {'win_rate': 0.544, 'games_played': 125}, 'Janna Nilah (BW/PZ)': {'win_rate': 0.4717, 'games_played': 106}, 'Maokai Nautilus (BW/SI)': {'win_rate': 0.6526, 'games_played': 95}}, 'Caitlyn Teemo (FR/PZ)': {'Gwen Zed (IO/SI)': {'win_rate': 0.3683, 'games_played': 315}, 'Annie Jhin (NX/RU)': {'win_rate': 0.2544, 'games_played': 283}, 'Elder Dragon Mordekaiser Viego (RU/SI)': {'win_rate': 0.651, 'games_played': 255}, \"Pyke Rek'Sai (BW/SH)\": {'win_rate': 0.4286, 'games_played': 252}, 'Elder Dragon Galio Morgana (DE/RU)': {'win_rate': 0.3072, 'games_played': 166}, 'Master Yi Nami (BW/IO)': {'win_rate': 0.4278, 'games_played': 187}, 'Ashe LeBlanc (FR/NX)': {'win_rate': 0.4351, 'games_played': 131}, 'Caitlyn Teemo (FR/PZ)': {'win_rate': 0.5, 'games_played': 10000}, 'Elder Dragon Volibear (FR/RU)': {'win_rate': 0.5478, 'games_played': 115}, 'Aurelion Sol Elder Dragon (MT/RU)': {'win_rate': 0.5354, 'games_played': 99}, 'Karma Sett (IO/PZ)': {'win_rate': 0.7383, 'games_played': 107}, 'Elder Dragon Morgana Shyvana (DE/RU)': {'win_rate': 0.4741, 'games_played': 116}, 'Karma Sett (FR/IO)': {'win_rate': 0.7273, 'games_played': 110}, 'Janna Nilah (BW/PZ)': {'win_rate': 0.7841, 'games_played': 88}, 'Maokai Nautilus (BW/SI)': {'win_rate': 0.6477, 'games_played': 88}}, 'Elder Dragon Volibear (FR/RU)': {'Gwen Zed (IO/SI)': {'win_rate': 0.195, 'games_played': 241}, 'Annie Jhin (NX/RU)': {'win_rate': 0.2132, 'games_played': 272}, 'Elder Dragon Mordekaiser Viego (RU/SI)': {'win_rate': 0.5082, 'games_played': 244}, \"Pyke Rek'Sai (BW/SH)\": {'win_rate': 0.309, 'games_played': 178}, 'Elder Dragon Galio Morgana (DE/RU)': {'win_rate': 0.4605, 'games_played': 152}, 'Master Yi Nami (BW/IO)': {'win_rate': 0.4496, 'games_played': 129}, 'Ashe LeBlanc (FR/NX)': {'win_rate': 0.3738, 'games_played': 107}, 'Caitlyn Teemo (FR/PZ)': {'win_rate': 0.4522, 'games_played': 115}, 'Elder Dragon Volibear (FR/RU)': {'win_rate': 0.5, 'games_played': 10000}, 'Aurelion Sol Elder Dragon (MT/RU)': {'win_rate': 0.6736, 'games_played': 144}, 'Karma Sett (IO/PZ)': {'win_rate': 0.5888, 'games_played': 107}, 'Elder Dragon Morgana Shyvana (DE/RU)': {'win_rate': 0.6522, 'games_played': 92}, 'Karma Sett (FR/IO)': {'win_rate': 0.3396, 'games_played': 106}, 'Janna Nilah (BW/PZ)': {'win_rate': 0.407, 'games_played': 86}, 'Maokai Nautilus (BW/SI)': {'win_rate': 0.5464, 'games_played': 97}}, 'Aurelion Sol Elder Dragon (MT/RU)': {'Gwen Zed (IO/SI)': {'win_rate': 0.3541, 'games_played': 257}, 'Annie Jhin (NX/RU)': {'win_rate': 0.3507, 'games_played': 268}, 'Elder Dragon Mordekaiser Viego (RU/SI)': {'win_rate': 0.4798, 'games_played': 223}, \"Pyke Rek'Sai (BW/SH)\": {'win_rate': 0.3627, 'games_played': 204}, 'Elder Dragon Galio Morgana (DE/RU)': {'win_rate': 0.4795, 'games_played': 171}, 'Master Yi Nami (BW/IO)': {'win_rate': 0.3846, 'games_played': 143}, 'Ashe LeBlanc (FR/NX)': {'win_rate': 0.3697, 'games_played': 119}, 'Caitlyn Teemo (FR/PZ)': {'win_rate': 0.4646, 'games_played': 99}, 'Elder Dragon Volibear (FR/RU)': {'win_rate': 0.3264, 'games_played': 144}, 'Aurelion Sol Elder Dragon (MT/RU)': {'win_rate': 0.5, 'games_played': 10000}, 'Karma Sett (IO/PZ)': {'win_rate': 0.4341, 'games_played': 129}, 'Elder Dragon Morgana Shyvana (DE/RU)': {'win_rate': 0.425, 'games_played': 80}, 'Karma Sett (FR/IO)': {'win_rate': 0.1856, 'games_played': 97}, 'Janna Nilah (BW/PZ)': {'win_rate': 0.4731, 'games_played': 93}, 'Maokai Nautilus (BW/SI)': {'win_rate': 0.4205, 'games_played': 88}}, 'Karma Sett (IO/PZ)': {'Gwen Zed (IO/SI)': {'win_rate': 0.5062, 'games_played': 243}, 'Annie Jhin (NX/RU)': {'win_rate': 0.5506, 'games_played': 247}, 'Elder Dragon Mordekaiser Viego (RU/SI)': {'win_rate': 0.5374, 'games_played': 227}, \"Pyke Rek'Sai (BW/SH)\": {'win_rate': 0.4339, 'games_played': 189}, 'Elder Dragon Galio Morgana (DE/RU)': {'win_rate': 0.424, 'games_played': 125}, 'Master Yi Nami (BW/IO)': {'win_rate': 0.5267, 'games_played': 131}, 'Ashe LeBlanc (FR/NX)': {'win_rate': 0.4207, 'games_played': 145}, 'Caitlyn Teemo (FR/PZ)': {'win_rate': 0.2617, 'games_played': 107}, 'Elder Dragon Volibear (FR/RU)': {'win_rate': 0.4112, 'games_played': 107}, 'Aurelion Sol Elder Dragon (MT/RU)': {'win_rate': 0.5659, 'games_played': 129}, 'Karma Sett (IO/PZ)': {'win_rate': 0.5, 'games_played': 10000}, 'Elder Dragon Morgana Shyvana (DE/RU)': {'win_rate': 0.4, 'games_played': 105}, 'Karma Sett (FR/IO)': {'win_rate': 0.5054, 'games_played': 93}, 'Janna Nilah (BW/PZ)': {'win_rate': 0.587, 'games_played': 92}, 'Maokai Nautilus (BW/SI)': {'win_rate': 0.3973, 'games_played': 73}}, 'Elder Dragon Morgana Shyvana (DE/RU)': {'Gwen Zed (IO/SI)': {'win_rate': 0.5879, 'games_played': 199}, 'Annie Jhin (NX/RU)': {'win_rate': 0.5991, 'games_played': 217}, 'Elder Dragon Mordekaiser Viego (RU/SI)': {'win_rate': 0.401, 'games_played': 207}, \"Pyke Rek'Sai (BW/SH)\": {'win_rate': 0.4678, 'games_played': 171}, 'Elder Dragon Galio Morgana (DE/RU)': {'win_rate': 0.458, 'games_played': 131}, 'Master Yi Nami (BW/IO)': {'win_rate': 0.6183, 'games_played': 131}, 'Ashe LeBlanc (FR/NX)': {'win_rate': 0.3984, 'games_played': 123}, 'Caitlyn Teemo (FR/PZ)': {'win_rate': 0.5259, 'games_played': 116}, 'Elder Dragon Volibear (FR/RU)': {'win_rate': 0.3478, 'games_played': 92}, 'Aurelion Sol Elder Dragon (MT/RU)': {'win_rate': 0.575, 'games_played': 80}, 'Karma Sett (IO/PZ)': {'win_rate': 0.6, 'games_played': 105}, 'Elder Dragon Morgana Shyvana (DE/RU)': {'win_rate': 0.5, 'games_played': 10000}, 'Karma Sett (FR/IO)': {'win_rate': 0.4819, 'games_played': 83}, 'Janna Nilah (BW/PZ)': {'win_rate': 0.7723, 'games_played': 101}, 'Maokai Nautilus (BW/SI)': {'win_rate': 0.5301, 'games_played': 83}}, 'Karma Sett (FR/IO)': {'Gwen Zed (IO/SI)': {'win_rate': 0.2646, 'games_played': 223}, 'Annie Jhin (NX/RU)': {'win_rate': 0.2789, 'games_played': 190}, 'Elder Dragon Mordekaiser Viego (RU/SI)': {'win_rate': 0.6686, 'games_played': 175}, \"Pyke Rek'Sai (BW/SH)\": {'win_rate': 0.3829, 'games_played': 175}, 'Elder Dragon Galio Morgana (DE/RU)': {'win_rate': 0.4188, 'games_played': 117}, 'Master Yi Nami (BW/IO)': {'win_rate': 0.4906, 'games_played': 106}, 'Ashe LeBlanc (FR/NX)': {'win_rate': 0.456, 'games_played': 125}, 'Caitlyn Teemo (FR/PZ)': {'win_rate': 0.2727, 'games_played': 110}, 'Elder Dragon Volibear (FR/RU)': {'win_rate': 0.6604, 'games_played': 106}, 'Aurelion Sol Elder Dragon (MT/RU)': {'win_rate': 0.8144, 'games_played': 97}, 'Karma Sett (IO/PZ)': {'win_rate': 0.4946, 'games_played': 93}, 'Elder Dragon Morgana Shyvana (DE/RU)': {'win_rate': 0.5181, 'games_played': 83}, 'Karma Sett (FR/IO)': {'win_rate': 0.5, 'games_played': 10000}, 'Janna Nilah (BW/PZ)': {'win_rate': 0.3506, 'games_played': 77}, 'Maokai Nautilus (BW/SI)': {'win_rate': 0.3731, 'games_played': 67}}, 'Janna Nilah (BW/PZ)': {'Gwen Zed (IO/SI)': {'win_rate': 0.5571, 'games_played': 210}, 'Annie Jhin (NX/RU)': {'win_rate': 0.689, 'games_played': 209}, 'Elder Dragon Mordekaiser Viego (RU/SI)': {'win_rate': 0.5215, 'games_played': 186}, \"Pyke Rek'Sai (BW/SH)\": {'win_rate': 0.5282, 'games_played': 142}, 'Elder Dragon Galio Morgana (DE/RU)': {'win_rate': 0.3451, 'games_played': 113}, 'Master Yi Nami (BW/IO)': {'win_rate': 0.6731, 'games_played': 104}, 'Ashe LeBlanc (FR/NX)': {'win_rate': 0.5283, 'games_played': 106}, 'Caitlyn Teemo (FR/PZ)': {'win_rate': 0.2159, 'games_played': 88}, 'Elder Dragon Volibear (FR/RU)': {'win_rate': 0.593, 'games_played': 86}, 'Aurelion Sol Elder Dragon (MT/RU)': {'win_rate': 0.5269, 'games_played': 93}, 'Karma Sett (IO/PZ)': {'win_rate': 0.413, 'games_played': 92}, 'Elder Dragon Morgana Shyvana (DE/RU)': {'win_rate': 0.2277, 'games_played': 101}, 'Karma Sett (FR/IO)': {'win_rate': 0.6494, 'games_played': 77}, 'Janna Nilah (BW/PZ)': {'win_rate': 0.5, 'games_played': 10000}, 'Maokai Nautilus (BW/SI)': {'win_rate': 0.4328, 'games_played': 67}}, 'Maokai Nautilus (BW/SI)': {'Gwen Zed (IO/SI)': {'win_rate': 0.4286, 'games_played': 168}, 'Annie Jhin (NX/RU)': {'win_rate': 0.4195, 'games_played': 205}, 'Elder Dragon Mordekaiser Viego (RU/SI)': {'win_rate': 0.4857, 'games_played': 175}, \"Pyke Rek'Sai (BW/SH)\": {'win_rate': 0.4631, 'games_played': 149}, 'Elder Dragon Galio Morgana (DE/RU)': {'win_rate': 0.4536, 'games_played': 97}, 'Master Yi Nami (BW/IO)': {'win_rate': 0.383, 'games_played': 94}, 'Ashe LeBlanc (FR/NX)': {'win_rate': 0.3474, 'games_played': 95}, 'Caitlyn Teemo (FR/PZ)': {'win_rate': 0.3295, 'games_played': 88}, 'Elder Dragon Volibear (FR/RU)': {'win_rate': 0.4536, 'games_played': 97}, 'Aurelion Sol Elder Dragon (MT/RU)': {'win_rate': 0.5795, 'games_played': 88}, 'Karma Sett (IO/PZ)': {'win_rate': 0.6027, 'games_played': 73}, 'Elder Dragon Morgana Shyvana (DE/RU)': {'win_rate': 0.4699, 'games_played': 83}, 'Karma Sett (FR/IO)': {'win_rate': 0.6269, 'games_played': 67}, 'Janna Nilah (BW/PZ)': {'win_rate': 0.5672, 'games_played': 67}, 'Maokai Nautilus (BW/SI)': {'win_rate': 0.5, 'games_played': 10000}}}\n"
     ]
    }
   ],
   "source": [
    "table = {key: {} for key in decks}\n",
    "muIndex = 0\n",
    "for rawIndex in range(len(decks) * len(decks)):\n",
    "    i = rawIndex // 15\n",
    "    j = rawIndex % 15\n",
    "    deck1 = decks[i]\n",
    "    deck2 = decks[j]\n",
    "    if i == j:  #diagonal on the match up, the deck is playing itself\n",
    "        table[deck1][deck2] = {\"win_rate\": 0.5, \"games_played\": 10000}\n",
    "        continue\n",
    "    mu = matchUps[muIndex]\n",
    "    muIndex += 1\n",
    "    table[deck1][deck2] = {\"win_rate\": mu[\"winRate\"], \"games_played\": mu[\"gamesPlayed\"]}\n",
    "print(table)"
   ]
  },
  {
   "cell_type": "markdown",
   "source": [
    "Scraping overall play and winrates"
   ],
   "metadata": {
    "collapsed": false
   }
  },
  {
   "cell_type": "code",
   "outputs": [
    {
     "data": {
      "text/plain": "15"
     },
     "execution_count": 10,
     "metadata": {},
     "output_type": "execute_result"
    }
   ],
   "source": [
    "deckCells = soup.select(\".grid-container:not(:first-child):not(:last-child) > .grid-item.side-header:first-child\")\n",
    "len(deckCells)"
   ],
   "metadata": {
    "collapsed": false,
    "ExecuteTime": {
     "end_time": "2024-02-14T20:17:12.499580200Z",
     "start_time": "2024-02-14T20:17:12.483949202Z"
    }
   },
   "execution_count": 10
  },
  {
   "cell_type": "code",
   "outputs": [],
   "source": [
    "from dataclasses import dataclass, asdict\n",
    "\n",
    "\n",
    "@dataclass\n",
    "class Archetype:\n",
    "    name: str\n",
    "    games_played: int\n",
    "    win_rate: float\n",
    "    play_rate: float\n",
    "\n",
    "\n",
    "def parseDeckCell(deckCell):\n",
    "    children = list(deckCell.childGenerator())\n",
    "    children = [child.text for child in children]\n",
    "    name = children[0]\n",
    "\n",
    "    games_played = children[1].split(\" \")[1]\n",
    "    games_played = int(games_played)\n",
    "\n",
    "    win_rate = children[2].split(\" \")[1]\n",
    "    win_rate = handleWinrate(win_rate)\n",
    "\n",
    "    play_rate = children[4].split(\" \")[1]\n",
    "    play_rate = handleWinrate(play_rate)\n",
    "\n",
    "    ans = Archetype(name, games_played, win_rate, play_rate)\n",
    "    return ans\n",
    "\n",
    "\n",
    "archeTypes = [parseDeckCell(cell) for cell in deckCells]"
   ],
   "metadata": {
    "collapsed": false,
    "ExecuteTime": {
     "end_time": "2024-02-14T20:17:12.507645164Z",
     "start_time": "2024-02-14T20:17:12.500594429Z"
    }
   },
   "execution_count": 11
  },
  {
   "cell_type": "markdown",
   "source": [
    "# Sending to DB"
   ],
   "metadata": {
    "collapsed": false
   }
  },
  {
   "cell_type": "code",
   "outputs": [
    {
     "ename": "NoSuchModuleError",
     "evalue": "Can't load plugin: sqlalchemy.dialects:postgres",
     "output_type": "error",
     "traceback": [
      "\u001B[0;31m---------------------------------------------------------------------------\u001B[0m",
      "\u001B[0;31mNoSuchModuleError\u001B[0m                         Traceback (most recent call last)",
      "Cell \u001B[0;32mIn[13], line 8\u001B[0m\n\u001B[1;32m      5\u001B[0m load_dotenv()\n\u001B[1;32m      7\u001B[0m db_url \u001B[38;5;241m=\u001B[39m os\u001B[38;5;241m.\u001B[39menviron\u001B[38;5;241m.\u001B[39mget(\u001B[38;5;124m\"\u001B[39m\u001B[38;5;124mDB_URI\u001B[39m\u001B[38;5;124m\"\u001B[39m)\n\u001B[0;32m----> 8\u001B[0m engine \u001B[38;5;241m=\u001B[39m \u001B[43mcreate_engine\u001B[49m\u001B[43m(\u001B[49m\u001B[43mdb_url\u001B[49m\u001B[43m,\u001B[49m\u001B[43m \u001B[49m\u001B[43mpool_pre_ping\u001B[49m\u001B[38;5;241;43m=\u001B[39;49m\u001B[38;5;28;43;01mTrue\u001B[39;49;00m\u001B[43m)\u001B[49m;\n",
      "File \u001B[0;32m<string>:2\u001B[0m, in \u001B[0;36mcreate_engine\u001B[0;34m(url, **kwargs)\u001B[0m\n",
      "File \u001B[0;32m~/school/cp_final_project/venv/lib/python3.10/site-packages/sqlalchemy/util/deprecations.py:281\u001B[0m, in \u001B[0;36mdeprecated_params.<locals>.decorate.<locals>.warned\u001B[0;34m(fn, *args, **kwargs)\u001B[0m\n\u001B[1;32m    274\u001B[0m     \u001B[38;5;28;01mif\u001B[39;00m m \u001B[38;5;129;01min\u001B[39;00m kwargs:\n\u001B[1;32m    275\u001B[0m         _warn_with_version(\n\u001B[1;32m    276\u001B[0m             messages[m],\n\u001B[1;32m    277\u001B[0m             versions[m],\n\u001B[1;32m    278\u001B[0m             version_warnings[m],\n\u001B[1;32m    279\u001B[0m             stacklevel\u001B[38;5;241m=\u001B[39m\u001B[38;5;241m3\u001B[39m,\n\u001B[1;32m    280\u001B[0m         )\n\u001B[0;32m--> 281\u001B[0m \u001B[38;5;28;01mreturn\u001B[39;00m \u001B[43mfn\u001B[49m\u001B[43m(\u001B[49m\u001B[38;5;241;43m*\u001B[39;49m\u001B[43margs\u001B[49m\u001B[43m,\u001B[49m\u001B[43m \u001B[49m\u001B[38;5;241;43m*\u001B[39;49m\u001B[38;5;241;43m*\u001B[39;49m\u001B[43mkwargs\u001B[49m\u001B[43m)\u001B[49m\n",
      "File \u001B[0;32m~/school/cp_final_project/venv/lib/python3.10/site-packages/sqlalchemy/engine/create.py:550\u001B[0m, in \u001B[0;36mcreate_engine\u001B[0;34m(url, **kwargs)\u001B[0m\n\u001B[1;32m    546\u001B[0m u \u001B[38;5;241m=\u001B[39m _url\u001B[38;5;241m.\u001B[39mmake_url(url)\n\u001B[1;32m    548\u001B[0m u, plugins, kwargs \u001B[38;5;241m=\u001B[39m u\u001B[38;5;241m.\u001B[39m_instantiate_plugins(kwargs)\n\u001B[0;32m--> 550\u001B[0m entrypoint \u001B[38;5;241m=\u001B[39m \u001B[43mu\u001B[49m\u001B[38;5;241;43m.\u001B[39;49m\u001B[43m_get_entrypoint\u001B[49m\u001B[43m(\u001B[49m\u001B[43m)\u001B[49m\n\u001B[1;32m    551\u001B[0m _is_async \u001B[38;5;241m=\u001B[39m kwargs\u001B[38;5;241m.\u001B[39mpop(\u001B[38;5;124m\"\u001B[39m\u001B[38;5;124m_is_async\u001B[39m\u001B[38;5;124m\"\u001B[39m, \u001B[38;5;28;01mFalse\u001B[39;00m)\n\u001B[1;32m    552\u001B[0m \u001B[38;5;28;01mif\u001B[39;00m _is_async:\n",
      "File \u001B[0;32m~/school/cp_final_project/venv/lib/python3.10/site-packages/sqlalchemy/engine/url.py:758\u001B[0m, in \u001B[0;36mURL._get_entrypoint\u001B[0;34m(self)\u001B[0m\n\u001B[1;32m    756\u001B[0m \u001B[38;5;28;01melse\u001B[39;00m:\n\u001B[1;32m    757\u001B[0m     name \u001B[38;5;241m=\u001B[39m \u001B[38;5;28mself\u001B[39m\u001B[38;5;241m.\u001B[39mdrivername\u001B[38;5;241m.\u001B[39mreplace(\u001B[38;5;124m\"\u001B[39m\u001B[38;5;124m+\u001B[39m\u001B[38;5;124m\"\u001B[39m, \u001B[38;5;124m\"\u001B[39m\u001B[38;5;124m.\u001B[39m\u001B[38;5;124m\"\u001B[39m)\n\u001B[0;32m--> 758\u001B[0m \u001B[38;5;28mcls\u001B[39m \u001B[38;5;241m=\u001B[39m \u001B[43mregistry\u001B[49m\u001B[38;5;241;43m.\u001B[39;49m\u001B[43mload\u001B[49m\u001B[43m(\u001B[49m\u001B[43mname\u001B[49m\u001B[43m)\u001B[49m\n\u001B[1;32m    759\u001B[0m \u001B[38;5;66;03m# check for legacy dialects that\u001B[39;00m\n\u001B[1;32m    760\u001B[0m \u001B[38;5;66;03m# would return a module with 'dialect' as the\u001B[39;00m\n\u001B[1;32m    761\u001B[0m \u001B[38;5;66;03m# actual class\u001B[39;00m\n\u001B[1;32m    762\u001B[0m \u001B[38;5;28;01mif\u001B[39;00m (\n\u001B[1;32m    763\u001B[0m     \u001B[38;5;28mhasattr\u001B[39m(\u001B[38;5;28mcls\u001B[39m, \u001B[38;5;124m\"\u001B[39m\u001B[38;5;124mdialect\u001B[39m\u001B[38;5;124m\"\u001B[39m)\n\u001B[1;32m    764\u001B[0m     \u001B[38;5;129;01mand\u001B[39;00m \u001B[38;5;28misinstance\u001B[39m(\u001B[38;5;28mcls\u001B[39m\u001B[38;5;241m.\u001B[39mdialect, \u001B[38;5;28mtype\u001B[39m)\n\u001B[1;32m    765\u001B[0m     \u001B[38;5;129;01mand\u001B[39;00m \u001B[38;5;28missubclass\u001B[39m(\u001B[38;5;28mcls\u001B[39m\u001B[38;5;241m.\u001B[39mdialect, Dialect)\n\u001B[1;32m    766\u001B[0m ):\n",
      "File \u001B[0;32m~/school/cp_final_project/venv/lib/python3.10/site-packages/sqlalchemy/util/langhelpers.py:374\u001B[0m, in \u001B[0;36mPluginLoader.load\u001B[0;34m(self, name)\u001B[0m\n\u001B[1;32m    371\u001B[0m         \u001B[38;5;28mself\u001B[39m\u001B[38;5;241m.\u001B[39mimpls[name] \u001B[38;5;241m=\u001B[39m impl\u001B[38;5;241m.\u001B[39mload\n\u001B[1;32m    372\u001B[0m         \u001B[38;5;28;01mreturn\u001B[39;00m impl\u001B[38;5;241m.\u001B[39mload()\n\u001B[0;32m--> 374\u001B[0m \u001B[38;5;28;01mraise\u001B[39;00m exc\u001B[38;5;241m.\u001B[39mNoSuchModuleError(\n\u001B[1;32m    375\u001B[0m     \u001B[38;5;124m\"\u001B[39m\u001B[38;5;124mCan\u001B[39m\u001B[38;5;124m'\u001B[39m\u001B[38;5;124mt load plugin: \u001B[39m\u001B[38;5;132;01m%s\u001B[39;00m\u001B[38;5;124m:\u001B[39m\u001B[38;5;132;01m%s\u001B[39;00m\u001B[38;5;124m\"\u001B[39m \u001B[38;5;241m%\u001B[39m (\u001B[38;5;28mself\u001B[39m\u001B[38;5;241m.\u001B[39mgroup, name)\n\u001B[1;32m    376\u001B[0m )\n",
      "\u001B[0;31mNoSuchModuleError\u001B[0m: Can't load plugin: sqlalchemy.dialects:postgres"
     ]
    }
   ],
   "source": [
    "# from sqlalchemy import create_engine, text\n",
    "# from dotenv import load_dotenv\n",
    "# import os\n",
    "# \n",
    "# load_dotenv()\n",
    "# \n",
    "# db_url = os.environ.get(\"DB_URI\")\n",
    "# engine = create_engine(db_url, pool_pre_ping=True);"
   ],
   "metadata": {
    "collapsed": false,
    "ExecuteTime": {
     "end_time": "2024-02-14T20:17:37.767445766Z",
     "start_time": "2024-02-14T20:17:37.697323489Z"
    }
   },
   "execution_count": 13
  },
  {
   "cell_type": "markdown",
   "source": [
    "Inserting archetypes"
   ],
   "metadata": {
    "collapsed": false
   }
  },
  {
   "cell_type": "code",
   "outputs": [],
   "source": [
    "def insert_decks_and_matchups(archeTypes, table):\n",
    "    with engine.begin() as connection:\n",
    "        #clearing table first\n",
    "        cmd = \"TRUNCATE archetypes, matchups\"\n",
    "        connection.execute(text(cmd))\n",
    "        \n",
    "        #inserting decks\n",
    "        for archeType in archeTypes:\n",
    "            cmd = \"insert into archetypes (NAME, games_played, win_rate, play_rate) VALUES (:name, :games_played, :win_rate, :play_rate)\"\n",
    "            connection.execute(text(cmd), asdict(archeType))\n",
    "            \n",
    "        #inserting matchups\n",
    "        for playing_deck, opposing_decks in table.items():\n",
    "            for opposing_deck, data in opposing_decks.items():\n",
    "                cmd = \"\"\"INSERT INTO matchups (playing, opposing, win_rate, games_played) VALUES (\n",
    "                    (SELECT id from archetypes WHERE\n",
    "                        archetypes.name = :playing_name),\n",
    "                    (SELECT id from archetypes WHERE\n",
    "                        archetypes.name = :opposing_name),\n",
    "                    :win_rate,\n",
    "                    :games_played\n",
    "                    )\n",
    "                \"\"\"\n",
    "                binds = {\"playing_name\": playing_deck, \"opposing_name\": opposing_deck, \"win_rate\": data[\"win_rate\"],\n",
    "                         \"games_played\": data[\"games_played\"]}\n",
    "                connection.execute(text(cmd), binds)\n"
   ],
   "metadata": {
    "collapsed": false,
    "ExecuteTime": {
     "end_time": "2024-02-14T20:17:49.100607196Z",
     "start_time": "2024-02-14T20:17:49.075174294Z"
    }
   },
   "execution_count": 14
  },
  {
   "cell_type": "code",
   "outputs": [],
   "source": [
    "# insert_decks_and_matchups(archeTypes, table)"
   ],
   "metadata": {
    "collapsed": false,
    "ExecuteTime": {
     "end_time": "2024-02-14T20:17:49.104347027Z",
     "start_time": "2024-02-14T20:17:49.095023684Z"
    }
   },
   "execution_count": 15
  },
  {
   "cell_type": "markdown",
   "source": [
    "Writing to local file"
   ],
   "metadata": {
    "collapsed": false
   }
  },
  {
   "cell_type": "code",
   "outputs": [
    {
     "data": {
      "text/plain": "{'Gwen Zed (IO/SI)': {'Gwen Zed (IO/SI)': {'win_rate': 0.5,\n   'games_played': 10000},\n  'Annie Jhin (NX/RU)': {'win_rate': 0.3862, 'games_played': 593},\n  'Elder Dragon Mordekaiser Viego (RU/SI)': {'win_rate': 0.6562,\n   'games_played': 477},\n  \"Pyke Rek'Sai (BW/SH)\": {'win_rate': 0.6667, 'games_played': 480},\n  'Elder Dragon Galio Morgana (DE/RU)': {'win_rate': 0.5623,\n   'games_played': 377},\n  'Master Yi Nami (BW/IO)': {'win_rate': 0.5831, 'games_played': 307},\n  'Ashe LeBlanc (FR/NX)': {'win_rate': 0.5273, 'games_played': 330},\n  'Caitlyn Teemo (FR/PZ)': {'win_rate': 0.6317, 'games_played': 315},\n  'Elder Dragon Volibear (FR/RU)': {'win_rate': 0.805, 'games_played': 241},\n  'Aurelion Sol Elder Dragon (MT/RU)': {'win_rate': 0.6459,\n   'games_played': 257},\n  'Karma Sett (IO/PZ)': {'win_rate': 0.4938, 'games_played': 243},\n  'Elder Dragon Morgana Shyvana (DE/RU)': {'win_rate': 0.4121,\n   'games_played': 199},\n  'Karma Sett (FR/IO)': {'win_rate': 0.7354, 'games_played': 223},\n  'Janna Nilah (BW/PZ)': {'win_rate': 0.4429, 'games_played': 210},\n  'Maokai Nautilus (BW/SI)': {'win_rate': 0.5714, 'games_played': 168}},\n 'Annie Jhin (NX/RU)': {'Gwen Zed (IO/SI)': {'win_rate': 0.6138,\n   'games_played': 593},\n  'Annie Jhin (NX/RU)': {'win_rate': 0.5, 'games_played': 10000},\n  'Elder Dragon Mordekaiser Viego (RU/SI)': {'win_rate': 0.6191,\n   'games_played': 491},\n  \"Pyke Rek'Sai (BW/SH)\": {'win_rate': 0.5501, 'games_played': 509},\n  'Elder Dragon Galio Morgana (DE/RU)': {'win_rate': 0.5013,\n   'games_played': 371},\n  'Master Yi Nami (BW/IO)': {'win_rate': 0.6278, 'games_played': 266},\n  'Ashe LeBlanc (FR/NX)': {'win_rate': 0.6265, 'games_played': 324},\n  'Caitlyn Teemo (FR/PZ)': {'win_rate': 0.742, 'games_played': 283},\n  'Elder Dragon Volibear (FR/RU)': {'win_rate': 0.7868, 'games_played': 272},\n  'Aurelion Sol Elder Dragon (MT/RU)': {'win_rate': 0.6493,\n   'games_played': 268},\n  'Karma Sett (IO/PZ)': {'win_rate': 0.4494, 'games_played': 247},\n  'Elder Dragon Morgana Shyvana (DE/RU)': {'win_rate': 0.4009,\n   'games_played': 217},\n  'Karma Sett (FR/IO)': {'win_rate': 0.7211, 'games_played': 190},\n  'Janna Nilah (BW/PZ)': {'win_rate': 0.311, 'games_played': 209},\n  'Maokai Nautilus (BW/SI)': {'win_rate': 0.5805, 'games_played': 205}},\n 'Elder Dragon Mordekaiser Viego (RU/SI)': {'Gwen Zed (IO/SI)': {'win_rate': 0.3438,\n   'games_played': 477},\n  'Annie Jhin (NX/RU)': {'win_rate': 0.3809, 'games_played': 491},\n  'Elder Dragon Mordekaiser Viego (RU/SI)': {'win_rate': 0.5,\n   'games_played': 10000},\n  \"Pyke Rek'Sai (BW/SH)\": {'win_rate': 0.4988, 'games_played': 433},\n  'Elder Dragon Galio Morgana (DE/RU)': {'win_rate': 0.5681,\n   'games_played': 301},\n  'Master Yi Nami (BW/IO)': {'win_rate': 0.317, 'games_played': 265},\n  'Ashe LeBlanc (FR/NX)': {'win_rate': 0.5627, 'games_played': 263},\n  'Caitlyn Teemo (FR/PZ)': {'win_rate': 0.349, 'games_played': 255},\n  'Elder Dragon Volibear (FR/RU)': {'win_rate': 0.4918, 'games_played': 244},\n  'Aurelion Sol Elder Dragon (MT/RU)': {'win_rate': 0.5202,\n   'games_played': 223},\n  'Karma Sett (IO/PZ)': {'win_rate': 0.4626, 'games_played': 227},\n  'Elder Dragon Morgana Shyvana (DE/RU)': {'win_rate': 0.599,\n   'games_played': 207},\n  'Karma Sett (FR/IO)': {'win_rate': 0.3314, 'games_played': 175},\n  'Janna Nilah (BW/PZ)': {'win_rate': 0.4785, 'games_played': 186},\n  'Maokai Nautilus (BW/SI)': {'win_rate': 0.5029, 'games_played': 175}},\n \"Pyke Rek'Sai (BW/SH)\": {'Gwen Zed (IO/SI)': {'win_rate': 0.3333,\n   'games_played': 480},\n  'Annie Jhin (NX/RU)': {'win_rate': 0.4499, 'games_played': 509},\n  'Elder Dragon Mordekaiser Viego (RU/SI)': {'win_rate': 0.5012,\n   'games_played': 433},\n  \"Pyke Rek'Sai (BW/SH)\": {'win_rate': 0.5, 'games_played': 10000},\n  'Elder Dragon Galio Morgana (DE/RU)': {'win_rate': 0.6254,\n   'games_played': 307},\n  'Master Yi Nami (BW/IO)': {'win_rate': 0.6607, 'games_played': 224},\n  'Ashe LeBlanc (FR/NX)': {'win_rate': 0.4899, 'games_played': 247},\n  'Caitlyn Teemo (FR/PZ)': {'win_rate': 0.5635, 'games_played': 252},\n  'Elder Dragon Volibear (FR/RU)': {'win_rate': 0.691, 'games_played': 178},\n  'Aurelion Sol Elder Dragon (MT/RU)': {'win_rate': 0.6373,\n   'games_played': 204},\n  'Karma Sett (IO/PZ)': {'win_rate': 0.5661, 'games_played': 189},\n  'Elder Dragon Morgana Shyvana (DE/RU)': {'win_rate': 0.5322,\n   'games_played': 171},\n  'Karma Sett (FR/IO)': {'win_rate': 0.6171, 'games_played': 175},\n  'Janna Nilah (BW/PZ)': {'win_rate': 0.4718, 'games_played': 142},\n  'Maokai Nautilus (BW/SI)': {'win_rate': 0.5369, 'games_played': 149}},\n 'Elder Dragon Galio Morgana (DE/RU)': {'Gwen Zed (IO/SI)': {'win_rate': 0.4377,\n   'games_played': 377},\n  'Annie Jhin (NX/RU)': {'win_rate': 0.4987, 'games_played': 371},\n  'Elder Dragon Mordekaiser Viego (RU/SI)': {'win_rate': 0.4319,\n   'games_played': 301},\n  \"Pyke Rek'Sai (BW/SH)\": {'win_rate': 0.3746, 'games_played': 307},\n  'Elder Dragon Galio Morgana (DE/RU)': {'win_rate': 0.5,\n   'games_played': 10000},\n  'Master Yi Nami (BW/IO)': {'win_rate': 0.6805, 'games_played': 169},\n  'Ashe LeBlanc (FR/NX)': {'win_rate': 0.5127, 'games_played': 158},\n  'Caitlyn Teemo (FR/PZ)': {'win_rate': 0.6928, 'games_played': 166},\n  'Elder Dragon Volibear (FR/RU)': {'win_rate': 0.5395, 'games_played': 152},\n  'Aurelion Sol Elder Dragon (MT/RU)': {'win_rate': 0.5205,\n   'games_played': 171},\n  'Karma Sett (IO/PZ)': {'win_rate': 0.576, 'games_played': 125},\n  'Elder Dragon Morgana Shyvana (DE/RU)': {'win_rate': 0.542,\n   'games_played': 131},\n  'Karma Sett (FR/IO)': {'win_rate': 0.5812, 'games_played': 117},\n  'Janna Nilah (BW/PZ)': {'win_rate': 0.6549, 'games_played': 113},\n  'Maokai Nautilus (BW/SI)': {'win_rate': 0.5464, 'games_played': 97}},\n 'Master Yi Nami (BW/IO)': {'Gwen Zed (IO/SI)': {'win_rate': 0.4169,\n   'games_played': 307},\n  'Annie Jhin (NX/RU)': {'win_rate': 0.3722, 'games_played': 266},\n  'Elder Dragon Mordekaiser Viego (RU/SI)': {'win_rate': 0.683,\n   'games_played': 265},\n  \"Pyke Rek'Sai (BW/SH)\": {'win_rate': 0.3393, 'games_played': 224},\n  'Elder Dragon Galio Morgana (DE/RU)': {'win_rate': 0.3195,\n   'games_played': 169},\n  'Master Yi Nami (BW/IO)': {'win_rate': 0.5, 'games_played': 10000},\n  'Ashe LeBlanc (FR/NX)': {'win_rate': 0.3976, 'games_played': 166},\n  'Caitlyn Teemo (FR/PZ)': {'win_rate': 0.5722, 'games_played': 187},\n  'Elder Dragon Volibear (FR/RU)': {'win_rate': 0.5504, 'games_played': 129},\n  'Aurelion Sol Elder Dragon (MT/RU)': {'win_rate': 0.6154,\n   'games_played': 143},\n  'Karma Sett (IO/PZ)': {'win_rate': 0.4733, 'games_played': 131},\n  'Elder Dragon Morgana Shyvana (DE/RU)': {'win_rate': 0.3817,\n   'games_played': 131},\n  'Karma Sett (FR/IO)': {'win_rate': 0.5094, 'games_played': 106},\n  'Janna Nilah (BW/PZ)': {'win_rate': 0.3269, 'games_played': 104},\n  'Maokai Nautilus (BW/SI)': {'win_rate': 0.617, 'games_played': 94}},\n 'Ashe LeBlanc (FR/NX)': {'Gwen Zed (IO/SI)': {'win_rate': 0.4727,\n   'games_played': 330},\n  'Annie Jhin (NX/RU)': {'win_rate': 0.3735, 'games_played': 324},\n  'Elder Dragon Mordekaiser Viego (RU/SI)': {'win_rate': 0.4373,\n   'games_played': 263},\n  \"Pyke Rek'Sai (BW/SH)\": {'win_rate': 0.5101, 'games_played': 247},\n  'Elder Dragon Galio Morgana (DE/RU)': {'win_rate': 0.4873,\n   'games_played': 158},\n  'Master Yi Nami (BW/IO)': {'win_rate': 0.6024, 'games_played': 166},\n  'Ashe LeBlanc (FR/NX)': {'win_rate': 0.5, 'games_played': 10000},\n  'Caitlyn Teemo (FR/PZ)': {'win_rate': 0.5649, 'games_played': 131},\n  'Elder Dragon Volibear (FR/RU)': {'win_rate': 0.6262, 'games_played': 107},\n  'Aurelion Sol Elder Dragon (MT/RU)': {'win_rate': 0.6303,\n   'games_played': 119},\n  'Karma Sett (IO/PZ)': {'win_rate': 0.5793, 'games_played': 145},\n  'Elder Dragon Morgana Shyvana (DE/RU)': {'win_rate': 0.6016,\n   'games_played': 123},\n  'Karma Sett (FR/IO)': {'win_rate': 0.544, 'games_played': 125},\n  'Janna Nilah (BW/PZ)': {'win_rate': 0.4717, 'games_played': 106},\n  'Maokai Nautilus (BW/SI)': {'win_rate': 0.6526, 'games_played': 95}},\n 'Caitlyn Teemo (FR/PZ)': {'Gwen Zed (IO/SI)': {'win_rate': 0.3683,\n   'games_played': 315},\n  'Annie Jhin (NX/RU)': {'win_rate': 0.2544, 'games_played': 283},\n  'Elder Dragon Mordekaiser Viego (RU/SI)': {'win_rate': 0.651,\n   'games_played': 255},\n  \"Pyke Rek'Sai (BW/SH)\": {'win_rate': 0.4286, 'games_played': 252},\n  'Elder Dragon Galio Morgana (DE/RU)': {'win_rate': 0.3072,\n   'games_played': 166},\n  'Master Yi Nami (BW/IO)': {'win_rate': 0.4278, 'games_played': 187},\n  'Ashe LeBlanc (FR/NX)': {'win_rate': 0.4351, 'games_played': 131},\n  'Caitlyn Teemo (FR/PZ)': {'win_rate': 0.5, 'games_played': 10000},\n  'Elder Dragon Volibear (FR/RU)': {'win_rate': 0.5478, 'games_played': 115},\n  'Aurelion Sol Elder Dragon (MT/RU)': {'win_rate': 0.5354,\n   'games_played': 99},\n  'Karma Sett (IO/PZ)': {'win_rate': 0.7383, 'games_played': 107},\n  'Elder Dragon Morgana Shyvana (DE/RU)': {'win_rate': 0.4741,\n   'games_played': 116},\n  'Karma Sett (FR/IO)': {'win_rate': 0.7273, 'games_played': 110},\n  'Janna Nilah (BW/PZ)': {'win_rate': 0.7841, 'games_played': 88},\n  'Maokai Nautilus (BW/SI)': {'win_rate': 0.6477, 'games_played': 88}},\n 'Elder Dragon Volibear (FR/RU)': {'Gwen Zed (IO/SI)': {'win_rate': 0.195,\n   'games_played': 241},\n  'Annie Jhin (NX/RU)': {'win_rate': 0.2132, 'games_played': 272},\n  'Elder Dragon Mordekaiser Viego (RU/SI)': {'win_rate': 0.5082,\n   'games_played': 244},\n  \"Pyke Rek'Sai (BW/SH)\": {'win_rate': 0.309, 'games_played': 178},\n  'Elder Dragon Galio Morgana (DE/RU)': {'win_rate': 0.4605,\n   'games_played': 152},\n  'Master Yi Nami (BW/IO)': {'win_rate': 0.4496, 'games_played': 129},\n  'Ashe LeBlanc (FR/NX)': {'win_rate': 0.3738, 'games_played': 107},\n  'Caitlyn Teemo (FR/PZ)': {'win_rate': 0.4522, 'games_played': 115},\n  'Elder Dragon Volibear (FR/RU)': {'win_rate': 0.5, 'games_played': 10000},\n  'Aurelion Sol Elder Dragon (MT/RU)': {'win_rate': 0.6736,\n   'games_played': 144},\n  'Karma Sett (IO/PZ)': {'win_rate': 0.5888, 'games_played': 107},\n  'Elder Dragon Morgana Shyvana (DE/RU)': {'win_rate': 0.6522,\n   'games_played': 92},\n  'Karma Sett (FR/IO)': {'win_rate': 0.3396, 'games_played': 106},\n  'Janna Nilah (BW/PZ)': {'win_rate': 0.407, 'games_played': 86},\n  'Maokai Nautilus (BW/SI)': {'win_rate': 0.5464, 'games_played': 97}},\n 'Aurelion Sol Elder Dragon (MT/RU)': {'Gwen Zed (IO/SI)': {'win_rate': 0.3541,\n   'games_played': 257},\n  'Annie Jhin (NX/RU)': {'win_rate': 0.3507, 'games_played': 268},\n  'Elder Dragon Mordekaiser Viego (RU/SI)': {'win_rate': 0.4798,\n   'games_played': 223},\n  \"Pyke Rek'Sai (BW/SH)\": {'win_rate': 0.3627, 'games_played': 204},\n  'Elder Dragon Galio Morgana (DE/RU)': {'win_rate': 0.4795,\n   'games_played': 171},\n  'Master Yi Nami (BW/IO)': {'win_rate': 0.3846, 'games_played': 143},\n  'Ashe LeBlanc (FR/NX)': {'win_rate': 0.3697, 'games_played': 119},\n  'Caitlyn Teemo (FR/PZ)': {'win_rate': 0.4646, 'games_played': 99},\n  'Elder Dragon Volibear (FR/RU)': {'win_rate': 0.3264, 'games_played': 144},\n  'Aurelion Sol Elder Dragon (MT/RU)': {'win_rate': 0.5,\n   'games_played': 10000},\n  'Karma Sett (IO/PZ)': {'win_rate': 0.4341, 'games_played': 129},\n  'Elder Dragon Morgana Shyvana (DE/RU)': {'win_rate': 0.425,\n   'games_played': 80},\n  'Karma Sett (FR/IO)': {'win_rate': 0.1856, 'games_played': 97},\n  'Janna Nilah (BW/PZ)': {'win_rate': 0.4731, 'games_played': 93},\n  'Maokai Nautilus (BW/SI)': {'win_rate': 0.4205, 'games_played': 88}},\n 'Karma Sett (IO/PZ)': {'Gwen Zed (IO/SI)': {'win_rate': 0.5062,\n   'games_played': 243},\n  'Annie Jhin (NX/RU)': {'win_rate': 0.5506, 'games_played': 247},\n  'Elder Dragon Mordekaiser Viego (RU/SI)': {'win_rate': 0.5374,\n   'games_played': 227},\n  \"Pyke Rek'Sai (BW/SH)\": {'win_rate': 0.4339, 'games_played': 189},\n  'Elder Dragon Galio Morgana (DE/RU)': {'win_rate': 0.424,\n   'games_played': 125},\n  'Master Yi Nami (BW/IO)': {'win_rate': 0.5267, 'games_played': 131},\n  'Ashe LeBlanc (FR/NX)': {'win_rate': 0.4207, 'games_played': 145},\n  'Caitlyn Teemo (FR/PZ)': {'win_rate': 0.2617, 'games_played': 107},\n  'Elder Dragon Volibear (FR/RU)': {'win_rate': 0.4112, 'games_played': 107},\n  'Aurelion Sol Elder Dragon (MT/RU)': {'win_rate': 0.5659,\n   'games_played': 129},\n  'Karma Sett (IO/PZ)': {'win_rate': 0.5, 'games_played': 10000},\n  'Elder Dragon Morgana Shyvana (DE/RU)': {'win_rate': 0.4,\n   'games_played': 105},\n  'Karma Sett (FR/IO)': {'win_rate': 0.5054, 'games_played': 93},\n  'Janna Nilah (BW/PZ)': {'win_rate': 0.587, 'games_played': 92},\n  'Maokai Nautilus (BW/SI)': {'win_rate': 0.3973, 'games_played': 73}},\n 'Elder Dragon Morgana Shyvana (DE/RU)': {'Gwen Zed (IO/SI)': {'win_rate': 0.5879,\n   'games_played': 199},\n  'Annie Jhin (NX/RU)': {'win_rate': 0.5991, 'games_played': 217},\n  'Elder Dragon Mordekaiser Viego (RU/SI)': {'win_rate': 0.401,\n   'games_played': 207},\n  \"Pyke Rek'Sai (BW/SH)\": {'win_rate': 0.4678, 'games_played': 171},\n  'Elder Dragon Galio Morgana (DE/RU)': {'win_rate': 0.458,\n   'games_played': 131},\n  'Master Yi Nami (BW/IO)': {'win_rate': 0.6183, 'games_played': 131},\n  'Ashe LeBlanc (FR/NX)': {'win_rate': 0.3984, 'games_played': 123},\n  'Caitlyn Teemo (FR/PZ)': {'win_rate': 0.5259, 'games_played': 116},\n  'Elder Dragon Volibear (FR/RU)': {'win_rate': 0.3478, 'games_played': 92},\n  'Aurelion Sol Elder Dragon (MT/RU)': {'win_rate': 0.575, 'games_played': 80},\n  'Karma Sett (IO/PZ)': {'win_rate': 0.6, 'games_played': 105},\n  'Elder Dragon Morgana Shyvana (DE/RU)': {'win_rate': 0.5,\n   'games_played': 10000},\n  'Karma Sett (FR/IO)': {'win_rate': 0.4819, 'games_played': 83},\n  'Janna Nilah (BW/PZ)': {'win_rate': 0.7723, 'games_played': 101},\n  'Maokai Nautilus (BW/SI)': {'win_rate': 0.5301, 'games_played': 83}},\n 'Karma Sett (FR/IO)': {'Gwen Zed (IO/SI)': {'win_rate': 0.2646,\n   'games_played': 223},\n  'Annie Jhin (NX/RU)': {'win_rate': 0.2789, 'games_played': 190},\n  'Elder Dragon Mordekaiser Viego (RU/SI)': {'win_rate': 0.6686,\n   'games_played': 175},\n  \"Pyke Rek'Sai (BW/SH)\": {'win_rate': 0.3829, 'games_played': 175},\n  'Elder Dragon Galio Morgana (DE/RU)': {'win_rate': 0.4188,\n   'games_played': 117},\n  'Master Yi Nami (BW/IO)': {'win_rate': 0.4906, 'games_played': 106},\n  'Ashe LeBlanc (FR/NX)': {'win_rate': 0.456, 'games_played': 125},\n  'Caitlyn Teemo (FR/PZ)': {'win_rate': 0.2727, 'games_played': 110},\n  'Elder Dragon Volibear (FR/RU)': {'win_rate': 0.6604, 'games_played': 106},\n  'Aurelion Sol Elder Dragon (MT/RU)': {'win_rate': 0.8144,\n   'games_played': 97},\n  'Karma Sett (IO/PZ)': {'win_rate': 0.4946, 'games_played': 93},\n  'Elder Dragon Morgana Shyvana (DE/RU)': {'win_rate': 0.5181,\n   'games_played': 83},\n  'Karma Sett (FR/IO)': {'win_rate': 0.5, 'games_played': 10000},\n  'Janna Nilah (BW/PZ)': {'win_rate': 0.3506, 'games_played': 77},\n  'Maokai Nautilus (BW/SI)': {'win_rate': 0.3731, 'games_played': 67}},\n 'Janna Nilah (BW/PZ)': {'Gwen Zed (IO/SI)': {'win_rate': 0.5571,\n   'games_played': 210},\n  'Annie Jhin (NX/RU)': {'win_rate': 0.689, 'games_played': 209},\n  'Elder Dragon Mordekaiser Viego (RU/SI)': {'win_rate': 0.5215,\n   'games_played': 186},\n  \"Pyke Rek'Sai (BW/SH)\": {'win_rate': 0.5282, 'games_played': 142},\n  'Elder Dragon Galio Morgana (DE/RU)': {'win_rate': 0.3451,\n   'games_played': 113},\n  'Master Yi Nami (BW/IO)': {'win_rate': 0.6731, 'games_played': 104},\n  'Ashe LeBlanc (FR/NX)': {'win_rate': 0.5283, 'games_played': 106},\n  'Caitlyn Teemo (FR/PZ)': {'win_rate': 0.2159, 'games_played': 88},\n  'Elder Dragon Volibear (FR/RU)': {'win_rate': 0.593, 'games_played': 86},\n  'Aurelion Sol Elder Dragon (MT/RU)': {'win_rate': 0.5269,\n   'games_played': 93},\n  'Karma Sett (IO/PZ)': {'win_rate': 0.413, 'games_played': 92},\n  'Elder Dragon Morgana Shyvana (DE/RU)': {'win_rate': 0.2277,\n   'games_played': 101},\n  'Karma Sett (FR/IO)': {'win_rate': 0.6494, 'games_played': 77},\n  'Janna Nilah (BW/PZ)': {'win_rate': 0.5, 'games_played': 10000},\n  'Maokai Nautilus (BW/SI)': {'win_rate': 0.4328, 'games_played': 67}},\n 'Maokai Nautilus (BW/SI)': {'Gwen Zed (IO/SI)': {'win_rate': 0.4286,\n   'games_played': 168},\n  'Annie Jhin (NX/RU)': {'win_rate': 0.4195, 'games_played': 205},\n  'Elder Dragon Mordekaiser Viego (RU/SI)': {'win_rate': 0.4857,\n   'games_played': 175},\n  \"Pyke Rek'Sai (BW/SH)\": {'win_rate': 0.4631, 'games_played': 149},\n  'Elder Dragon Galio Morgana (DE/RU)': {'win_rate': 0.4536,\n   'games_played': 97},\n  'Master Yi Nami (BW/IO)': {'win_rate': 0.383, 'games_played': 94},\n  'Ashe LeBlanc (FR/NX)': {'win_rate': 0.3474, 'games_played': 95},\n  'Caitlyn Teemo (FR/PZ)': {'win_rate': 0.3295, 'games_played': 88},\n  'Elder Dragon Volibear (FR/RU)': {'win_rate': 0.4536, 'games_played': 97},\n  'Aurelion Sol Elder Dragon (MT/RU)': {'win_rate': 0.5795,\n   'games_played': 88},\n  'Karma Sett (IO/PZ)': {'win_rate': 0.6027, 'games_played': 73},\n  'Elder Dragon Morgana Shyvana (DE/RU)': {'win_rate': 0.4699,\n   'games_played': 83},\n  'Karma Sett (FR/IO)': {'win_rate': 0.6269, 'games_played': 67},\n  'Janna Nilah (BW/PZ)': {'win_rate': 0.5672, 'games_played': 67},\n  'Maokai Nautilus (BW/SI)': {'win_rate': 0.5, 'games_played': 10000}}}"
     },
     "execution_count": 16,
     "metadata": {},
     "output_type": "execute_result"
    }
   ],
   "source": [
    "table"
   ],
   "metadata": {
    "collapsed": false,
    "ExecuteTime": {
     "end_time": "2024-02-14T20:17:49.152418830Z",
     "start_time": "2024-02-14T20:17:49.150425798Z"
    }
   },
   "execution_count": 16
  },
  {
   "cell_type": "markdown",
   "source": [
    "# Writing Nodes"
   ],
   "metadata": {
    "collapsed": false
   }
  },
  {
   "cell_type": "code",
   "outputs": [],
   "source": [
    "import json\n",
    "output = [{\"id\": f\"n{i}\", \"label\": deck.name} for i, deck in enumerate(archeTypes)]\n",
    "with open(\"data/nodes.json\", \"w\") as f:\n",
    "    json.dump(output, f, indent=4)"
   ],
   "metadata": {
    "collapsed": false,
    "ExecuteTime": {
     "end_time": "2024-02-14T20:42:24.779025065Z",
     "start_time": "2024-02-14T20:42:24.774339283Z"
    }
   },
   "execution_count": 35
  },
  {
   "cell_type": "markdown",
   "source": [
    "# Writing Edges"
   ],
   "metadata": {
    "collapsed": false
   }
  },
  {
   "cell_type": "code",
   "outputs": [
    {
     "data": {
      "text/plain": "{'id': 'e2',\n 'source': 'n0',\n 'target': 'n2',\n 'win_rate': 0.6562,\n 'games_played': 477}"
     },
     "metadata": {},
     "output_type": "display_data"
    }
   ],
   "source": [
    "nameToId = {deck.name : f\"n{i}\" for i, deck in enumerate(archeTypes)}\n",
    "i = 0\n",
    "edgeList = []\n",
    "for playingDeck, opposingDecks in table.items():\n",
    "    for opposingDeck, data in opposingDecks.items():\n",
    "        thisEdge = {\"id\": f\"e{i}\", \"source\": nameToId[playingDeck], \"target\": nameToId[opposingDeck], \"win_rate\": data[\"win_rate\"], \"games_played\": data[\"games_played\"]}\n",
    "        edgeList.append(thisEdge)\n",
    "        i += 1\n",
    "display(edgeList[2])"
   ],
   "metadata": {
    "collapsed": false,
    "ExecuteTime": {
     "end_time": "2024-02-14T20:33:35.011387446Z",
     "start_time": "2024-02-14T20:33:34.970322511Z"
    }
   },
   "execution_count": 33
  },
  {
   "cell_type": "code",
   "outputs": [],
   "source": [
    "with open(\"data/edges.json\", \"w\") as f:\n",
    "    json.dump(edgeList, f)"
   ],
   "metadata": {
    "collapsed": false,
    "ExecuteTime": {
     "end_time": "2024-02-14T20:33:53.858629019Z",
     "start_time": "2024-02-14T20:33:53.855146906Z"
    }
   },
   "execution_count": 34
  }
 ],
 "metadata": {
  "kernelspec": {
   "display_name": "venv",
   "language": "python",
   "name": "python3"
  },
  "language_info": {
   "codemirror_mode": {
    "name": "ipython",
    "version": 3
   },
   "file_extension": ".py",
   "mimetype": "text/x-python",
   "name": "python",
   "nbconvert_exporter": "python",
   "pygments_lexer": "ipython3",
   "version": "3.10.6"
  }
 },
 "nbformat": 4,
 "nbformat_minor": 2
}
